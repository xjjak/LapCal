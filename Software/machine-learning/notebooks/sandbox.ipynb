{
 "cells": [
  {
   "cell_type": "markdown",
   "id": "48d7edfa-6a5f-47e4-9685-b75c4f0fc29e",
   "metadata": {},
   "source": [
    "# Click dataset"
   ]
  },
  {
   "cell_type": "code",
   "execution_count": 1,
   "id": "2a9fcca3-11db-4b7e-9e92-b6a9afab25fa",
   "metadata": {
    "scrolled": true
   },
   "outputs": [
    {
     "name": "stderr",
     "output_type": "stream",
     "text": [
      "2024-03-01 22:26:23.110918: E external/local_xla/xla/stream_executor/cuda/cuda_dnn.cc:9261] Unable to register cuDNN factory: Attempting to register factory for plugin cuDNN when one has already been registered\n",
      "2024-03-01 22:26:23.110963: E external/local_xla/xla/stream_executor/cuda/cuda_fft.cc:607] Unable to register cuFFT factory: Attempting to register factory for plugin cuFFT when one has already been registered\n",
      "2024-03-01 22:26:23.112009: E external/local_xla/xla/stream_executor/cuda/cuda_blas.cc:1515] Unable to register cuBLAS factory: Attempting to register factory for plugin cuBLAS when one has already been registered\n",
      "2024-03-01 22:26:23.118631: I tensorflow/core/platform/cpu_feature_guard.cc:182] This TensorFlow binary is optimized to use available CPU instructions in performance-critical operations.\n",
      "To enable the following instructions: AVX2 FMA, in other operations, rebuild TensorFlow with the appropriate compiler flags.\n",
      "2024-03-01 22:26:23.846737: W tensorflow/compiler/tf2tensorrt/utils/py_utils.cc:38] TF-TRT Warning: Could not find TensorRT\n"
     ]
    }
   ],
   "source": [
    "from joblib import load, dump\n",
    "import numpy as np\n",
    "import pandas as pd\n",
    "\n",
    "import tensorflow as tf\n",
    "from tensorflow import keras\n",
    "from keras import layers, regularizers\n",
    "from sklearn.model_selection import train_test_split\n",
    "import matplotlib.pyplot as plt\n",
    "import numpy as np"
   ]
  },
  {
   "cell_type": "markdown",
   "id": "16f7ab0f-c0f5-4de5-be91-6b60188ecd1a",
   "metadata": {},
   "source": [
    "## Preparation\n"
   ]
  },
  {
   "cell_type": "markdown",
   "id": "7a1e02c4-f82e-49b7-8dfe-abfd698c9ea2",
   "metadata": {},
   "source": [
    "Convert whole keyboard to only click or not click."
   ]
  },
  {
   "cell_type": "code",
   "execution_count": 2,
   "id": "e23f3e82-3683-44a1-b80f-92ebece49e92",
   "metadata": {},
   "outputs": [],
   "source": [
    "# x_orig, y_orig = load(\"dataset-click/dataset.joblib\")\n",
    "\n",
    "# y = np.zeros(shape=(y_orig.shape[0],))\n",
    "# y[:] = np.int8(np.any(y_orig == 1, axis=1))\n",
    "\n",
    "# x = np.zeros(shape=(x_orig.shape[0], 163))\n",
    "# x[:] = np.hstack((x_orig[:,:-17], np.any(x_orig[:, -17:] == 1, axis=1).reshape((x_orig.shape[0],1))))\n",
    "\n",
    "x_train, y_train, x_dev, y_dev, x_test, y_test = load(\"dataset-jufo/dataset.joblib\")"
   ]
  },
  {
   "cell_type": "markdown",
   "id": "47e557aa-f57f-479c-b884-2a2e81fd5289",
   "metadata": {},
   "source": [
    "Train-test-split: (split was moved to data preparation)"
   ]
  },
  {
   "cell_type": "code",
   "execution_count": 3,
   "id": "60cd956b-1f6a-430d-afe0-4d72259d4ef3",
   "metadata": {},
   "outputs": [],
   "source": [
    "# x_train, x_dev, y_train, y_dev = train_test_split(x, y, test_size=0.2, random_state=21)\n",
    "# x_train, x_test, y_train, y_test = train_test_split(x_train, y_train, test_size=0.2, random_state=100)"
   ]
  },
  {
   "cell_type": "markdown",
   "id": "a0a92259-4030-4b9d-96c2-4a1258223837",
   "metadata": {},
   "source": [
    "## Simple tensorflow model"
   ]
  },
  {
   "cell_type": "markdown",
   "id": "1abb4efe-51ae-4aeb-bd38-ee9ef1ffb046",
   "metadata": {},
   "source": [
    "A simple tf architecture with 3 layers and relu activation functions inbetween:\n",
    "- Dense (5000 neurons)\n",
    "- Dense (5000 neurons)\n",
    "- Dense (5000 neurons)\n",
    "- Dense (5000 neurons)\n",
    "\n",
    "The last layer has a sigmoid activation function to make mapping to 0 and 1 easier.\n",
    "Additionally, there is L2 regularization in place."
   ]
  },
  {
   "cell_type": "code",
   "execution_count": 4,
   "id": "767ca1fa-5f89-4118-867e-0c78488957f8",
   "metadata": {},
   "outputs": [
    {
     "name": "stderr",
     "output_type": "stream",
     "text": [
      "2024-03-01 22:26:24.885070: I external/local_xla/xla/stream_executor/cuda/cuda_executor.cc:901] successful NUMA node read from SysFS had negative value (-1), but there must be at least one NUMA node, so returning NUMA node zero. See more at https://github.com/torvalds/linux/blob/v6.0/Documentation/ABI/testing/sysfs-bus-pci#L344-L355\n",
      "2024-03-01 22:26:24.931887: I external/local_xla/xla/stream_executor/cuda/cuda_executor.cc:901] successful NUMA node read from SysFS had negative value (-1), but there must be at least one NUMA node, so returning NUMA node zero. See more at https://github.com/torvalds/linux/blob/v6.0/Documentation/ABI/testing/sysfs-bus-pci#L344-L355\n",
      "2024-03-01 22:26:24.932125: I external/local_xla/xla/stream_executor/cuda/cuda_executor.cc:901] successful NUMA node read from SysFS had negative value (-1), but there must be at least one NUMA node, so returning NUMA node zero. See more at https://github.com/torvalds/linux/blob/v6.0/Documentation/ABI/testing/sysfs-bus-pci#L344-L355\n",
      "2024-03-01 22:26:24.933722: I external/local_xla/xla/stream_executor/cuda/cuda_executor.cc:901] successful NUMA node read from SysFS had negative value (-1), but there must be at least one NUMA node, so returning NUMA node zero. See more at https://github.com/torvalds/linux/blob/v6.0/Documentation/ABI/testing/sysfs-bus-pci#L344-L355\n",
      "2024-03-01 22:26:24.933937: I external/local_xla/xla/stream_executor/cuda/cuda_executor.cc:901] successful NUMA node read from SysFS had negative value (-1), but there must be at least one NUMA node, so returning NUMA node zero. See more at https://github.com/torvalds/linux/blob/v6.0/Documentation/ABI/testing/sysfs-bus-pci#L344-L355\n",
      "2024-03-01 22:26:24.934109: I external/local_xla/xla/stream_executor/cuda/cuda_executor.cc:901] successful NUMA node read from SysFS had negative value (-1), but there must be at least one NUMA node, so returning NUMA node zero. See more at https://github.com/torvalds/linux/blob/v6.0/Documentation/ABI/testing/sysfs-bus-pci#L344-L355\n",
      "2024-03-01 22:26:25.006094: I external/local_xla/xla/stream_executor/cuda/cuda_executor.cc:901] successful NUMA node read from SysFS had negative value (-1), but there must be at least one NUMA node, so returning NUMA node zero. See more at https://github.com/torvalds/linux/blob/v6.0/Documentation/ABI/testing/sysfs-bus-pci#L344-L355\n",
      "2024-03-01 22:26:25.006340: I external/local_xla/xla/stream_executor/cuda/cuda_executor.cc:901] successful NUMA node read from SysFS had negative value (-1), but there must be at least one NUMA node, so returning NUMA node zero. See more at https://github.com/torvalds/linux/blob/v6.0/Documentation/ABI/testing/sysfs-bus-pci#L344-L355\n",
      "2024-03-01 22:26:25.006536: I external/local_xla/xla/stream_executor/cuda/cuda_executor.cc:901] successful NUMA node read from SysFS had negative value (-1), but there must be at least one NUMA node, so returning NUMA node zero. See more at https://github.com/torvalds/linux/blob/v6.0/Documentation/ABI/testing/sysfs-bus-pci#L344-L355\n",
      "2024-03-01 22:26:25.006678: I tensorflow/core/common_runtime/gpu/gpu_device.cc:1929] Created device /job:localhost/replica:0/task:0/device:GPU:0 with 3846 MB memory:  -> device: 0, name: NVIDIA GeForce GTX 1660 Ti, pci bus id: 0000:01:00.0, compute capability: 7.5\n",
      "2024-03-01 22:26:25.367656: I external/local_tsl/tsl/platform/default/subprocess.cc:304] Start cannot spawn child process: No such file or directory\n"
     ]
    }
   ],
   "source": [
    "inputs = layers.Input(shape=(179,))\n",
    "normalizer = layers.Normalization()\n",
    "normalizer.adapt(x_train)\n",
    "x = normalizer(inputs)\n",
    "for _ in range(4):\n",
    "    x = layers.Dense(5000, activation = \"relu\", kernel_regularizer=regularizers.l2(0.001))(x)\n",
    "outputs = layers.Dense(17, activation = \"sigmoid\")(x)\n",
    "model = keras.Model(inputs, outputs)\n",
    "\n",
    "# model = keras.Sequential(\n",
    "#     [\n",
    "#         # add standardization!\n",
    "#         layers.Input(shape=(179,)),\n",
    "#         layers.Dense(5000, activation = \"relu\",\n",
    "#                      kernel_regularizer=regularizers.l2(0.001)),\n",
    "#         layers.Dense(5000, activation = \"relu\",\n",
    "#                      kernel_regularizer=regularizers.l2(0.001)),\n",
    "#         layers.Dense(5000, activation = \"relu\",\n",
    "#                      kernel_regularizer=regularizers.l2(0.001)),\n",
    "#         layers.Dense(5000, activation = \"relu\",\n",
    "#                      kernel_regularizer=regularizers.l2(0.001)),\n",
    "#         layers.Dense(17, activation = \"sigmoid\")\n",
    "#     ]\n",
    "# )"
   ]
  },
  {
   "cell_type": "markdown",
   "id": "a82ba6b9-6638-42ac-baa6-754618f2d3e8",
   "metadata": {},
   "source": [
    "### Metric\n",
    "_See https://github.com/xjjak/LapCal/issues/28_\n",
    "\n",
    "Use a weighted combination of:\n",
    "- accuracy\n",
    "- precision\n",
    "- recall\n",
    "- auc\n",
    "\n",
    "Try to incorporate how well state changes are handled (eg. maybe penalty or something similar).\n",
    "\n",
    "_Possibly redefine positive negative predictions to state changes._"
   ]
  },
  {
   "cell_type": "code",
   "execution_count": 5,
   "id": "a07f4e91-396d-40db-a3c0-ee6216a77530",
   "metadata": {},
   "outputs": [],
   "source": [
    "# import keras.backend as K\n",
    "# import math\n",
    "\n",
    "# def recall(y_true, y_pred):\n",
    "#     true_positives = K.sum(K.round(K.clip(y_true * y_pred, 0, 1)))\n",
    "#     possible_positives = K.sum(K.round(K.clip(y_true, 0, 1)))\n",
    "#     recall_keras = true_positives / (possible_positives + K.epsilon())\n",
    "#     return recall_keras\n",
    "\n",
    "\n",
    "# def precision(y_true, y_pred):\n",
    "#     true_positives = K.sum(K.round(K.clip(y_true * y_pred, 0, 1)))\n",
    "#     predicted_positives = K.sum(K.round(K.clip(y_pred, 0, 1)))\n",
    "#     precision_keras = true_positives / (predicted_positives + K.epsilon())\n",
    "#     return precision_keras\n",
    "\n",
    "\n",
    "# eps = 1e-10\n",
    "\n",
    "# def fbeta(y_true, y_pred, beta=1):\n",
    "#     r = K.clip(recall(y_true, y_pred), eps, 1)\n",
    "#     p = K.clip(precision(y_true, y_pred), eps, 1)\n",
    "#     return (1 + beta**2) * (p * r) / (beta**2 * p + r)\n",
    "\n",
    "# # unused\n",
    "# def prediction_boundary(y_true, y_pred):\n",
    "#     tn = K.mean((1 - y_true) * y_pred)\n",
    "#     tp = K.mean(y_true * y_pred)\n",
    "#     return K.clip(tp - tn, 0, 1)\n",
    "\n",
    "\n",
    "# def inv_distance(y_true, y_pred):\n",
    "#     return K.clip(1 - 2*K.mean(K.abs(y_true - y_pred)), 0, 1)\n",
    "\n",
    "\n",
    "# def custom_metric(y_true, y_pred):\n",
    "#     metrics = [precision, lambda *x: fbeta(*x, beta=2), keras.metrics.binary_accuracy, inv_distance]\n",
    "#     coeff   = [0.1      , 0.6                         , 0.2                          , 0.1         ]\n",
    "#     return sum([c * metric(y_true, y_pred) for c, metric in zip(coeff, metrics)])"
   ]
  },
  {
   "cell_type": "code",
   "execution_count": 6,
   "id": "cdc2fa21-3cf2-4a83-9ce4-c1ce0ac992fb",
   "metadata": {},
   "outputs": [],
   "source": [
    "from metric import *"
   ]
  },
  {
   "cell_type": "markdown",
   "id": "81540fa8-1471-44f3-a33c-8904ce3cb5d9",
   "metadata": {
    "jp-MarkdownHeadingCollapsed": true
   },
   "source": [
    "#### Tests"
   ]
  },
  {
   "cell_type": "code",
   "execution_count": 7,
   "id": "030a9788-d913-42f6-b979-8fcc1a2586f4",
   "metadata": {},
   "outputs": [],
   "source": [
    "class CustomMetric(keras.metrics.Metric):\n",
    "    def __init__(self, metrics = [], name='custom', **kwargs):\n",
    "        super(CustomMetric, self).__init__(name=name, **kwargs)\n",
    "        self._binacc    = keras.metrics.BinaryAccuracy()\n",
    "        self._precision = keras.metrics.Precision()\n",
    "        self._recall    = keras.metrics.Recall()\n",
    "        self._auc       = keras.metrics.AUC()\n",
    "        \n",
    "        self._metrics = [self._binacc, self._precision, self._recall, self._auc]\n",
    "        self._coeff   = [0.1        , 0.4           , 0.4        , 0.1     ]\n",
    "\n",
    "        # self._result = tf.constant(0, shape = (), dtype = tf.float32)\n",
    "\n",
    "    def update_state(self, y_true, y_pred, sample_weight=None):\n",
    "        for metric in self._metrics:\n",
    "            metric.update_state(y_true, y_pred, sample_weight=sample_weight)\n",
    "\n",
    "    def result(self):\n",
    "        return sum([c * metric.result() for c, metric in zip(self._coeff, self._metrics)])"
   ]
  },
  {
   "cell_type": "code",
   "execution_count": 8,
   "id": "0effa6ff-a062-477f-87d7-29b5f07c2126",
   "metadata": {
    "scrolled": true
   },
   "outputs": [],
   "source": [
    "# import tensorflow_model_analysis as tfma\n",
    "\n",
    "# metrics = [\n",
    "#     keras.metrics.BinaryAccuracy(name = \"binacc\"),\n",
    "#     keras.metrics.Precision(name = \"precision\"),\n",
    "#     keras.metrics.Recall(name = \"recall\"),\n",
    "#     keras.metrics.AUC(name = \"auc\")\n",
    "# ]\n",
    "# metrics_specs = tfma.metrics.specs_from_metrics(\n",
    "#     metrics,\n",
    "#     aggregate=tfma.AggregationOptions(\n",
    "#         # macro_average=True, class_weights={i: 1.0 for i in range(10)}\n",
    "#         micro_average=True\n",
    "#     )\n",
    "# )"
   ]
  },
  {
   "cell_type": "markdown",
   "id": "f81073ea-b25e-4ea8-a106-b2e54f573d44",
   "metadata": {},
   "source": [
    "Use `Callback` to insert the result of the custom metric instead of `Metric` class as it is more complicated and there is no need for the class per se."
   ]
  },
  {
   "cell_type": "code",
   "execution_count": 30,
   "id": "5df5eff1-884b-4884-b41e-dfdbb4bdb75c",
   "metadata": {},
   "outputs": [],
   "source": [
    "# class MergeMetrics(keras.callbacks.Callback):\n",
    "#     def __init__(self, **kwargs):\n",
    "#         super(MergeMetrics, self).__init__(**kwargs)\n",
    "\n",
    "#     def on_epoch_begin(self, epoch, logs={}):\n",
    "#         return\n",
    "\n",
    "#     def on_epoch_end(self, epoch, logs={}):\n",
    "#         # logs['merge_metrics'] = 0.5*logs[\"y1_mse\"]+0.5*logs[\"y2_mse\"]\n",
    "#         metrics = [\"binacc\", \"precision\", \"recall\", \"auc\"]\n",
    "#         coeff   = [0.1     , 0.4        , 0.4     , 0.1  ]\n",
    "#         logs['metric'] = sum([c * logs[metric] for c, metric in zip(coeff, metrics)])\n",
    "#         logs['val_metric'] = sum([c * logs['val_'+metric] for c, metric in zip(coeff, metrics)])"
   ]
  },
  {
   "cell_type": "markdown",
   "id": "44e15650-fd90-4db1-9ad0-9d2c9f70c103",
   "metadata": {},
   "source": [
    "### Hyperparameters"
   ]
  },
  {
   "cell_type": "code",
   "execution_count": 13,
   "id": "01d1a108-7e5e-4692-9ede-4f2d8ee375c6",
   "metadata": {},
   "outputs": [],
   "source": [
    "learning_rate = 1e-4\n",
    "optimizer = keras.optimizers.RMSprop\n",
    "# optimizer = keras.optimizers.Adam\n",
    "# loss = keras.losses.BinaryFocalCrossentropy\n",
    "loss = keras.losses.BinaryCrossentropy\n",
    "\n",
    "# @keras.saving.register_keras_serializable(package=\"my_package\", name=\"f2\")\n",
    "def f2(*x):\n",
    "    fbeta(*x, beta=2)\n",
    "\n",
    "metrics = [\n",
    "    custom_metric,\n",
    "    binary_accuracy,\n",
    "    recall,\n",
    "    # f2,\n",
    "    inv_distance,\n",
    "]"
   ]
  },
  {
   "cell_type": "markdown",
   "id": "01fcf678-c27c-42d4-b4af-76d0c1d47e67",
   "metadata": {},
   "source": [
    "### Compilation"
   ]
  },
  {
   "cell_type": "code",
   "execution_count": 14,
   "id": "f5200fe4-36a3-4366-af5c-ab0dcc980e7c",
   "metadata": {},
   "outputs": [],
   "source": [
    "model.compile(\n",
    "    optimizer = optimizer(learning_rate=learning_rate),\n",
    "    loss = loss(),\n",
    "    metrics = metrics\n",
    ")"
   ]
  },
  {
   "cell_type": "markdown",
   "id": "9acec48c-86c6-4109-9802-076d7fed6822",
   "metadata": {},
   "source": [
    "### Training"
   ]
  },
  {
   "cell_type": "markdown",
   "id": "758fedeb-3632-4c60-a1df-bdd150409840",
   "metadata": {},
   "source": [
    "Prepare sample weights:"
   ]
  },
  {
   "cell_type": "code",
   "execution_count": 15,
   "id": "03f6f1a0-a368-46c4-b05f-279a26514b1b",
   "metadata": {},
   "outputs": [],
   "source": [
    "# https://github.com/xjjak/LapCal/issues/29#issuecomment-1930880677\n",
    "standard_weight = 1\n",
    "change_weight = 5\n",
    "\n",
    "y_before = x_train[:,-17:]\n",
    "changes = np.any(y_before != y_train, axis=1)\n",
    "sample_weight = (changes*(change_weight - standard_weight) + standard_weight)\n",
    "\n",
    "xf, yf = x_train[changes == False], y_train[changes == False]\n",
    "xt, yt = x_train[changes == True ], y_train[changes == True ]"
   ]
  },
  {
   "cell_type": "markdown",
   "id": "fff107c5-50bf-4c22-b653-033958ca08a0",
   "metadata": {},
   "source": [
    "Prepare undersampling sets:new(LB, list_browser), right"
   ]
  },
  {
   "cell_type": "code",
   "execution_count": 16,
   "id": "e4569969-e492-418a-90c1-1297509c7cb4",
   "metadata": {},
   "outputs": [
    {
     "data": {
      "text/plain": [
       "((1410, 179), (1410, 17))"
      ]
     },
     "execution_count": 16,
     "metadata": {},
     "output_type": "execute_result"
    }
   ],
   "source": [
    "# https://github.com/xjjak/LapCal/issues/29#issuecomment-1939578746\n",
    "# https://github.com/xjjak/LapCal/issues/29#issuecomment-1969695787\n",
    "indices = np.arange(xf.shape[0])\n",
    "np.random.shuffle(indices)\n",
    "\n",
    "# multiple of positive to sample from negative set\n",
    "n = 10\n",
    "x_ = xf[indices[:min(n*changes.sum(), len(indices))]]\n",
    "y_ = yf[indices[:min(n*changes.sum(), len(indices))]]\n",
    "\n",
    "x_us = np.vstack((x_, xt))\n",
    "y_us = np.vstack((y_, yt))\n",
    "\n",
    "from sklearn.utils import shuffle\n",
    "x_us, y_us = shuffle(x_us, y_us, random_state=0)\n",
    "(x_us.shape, y_us.shape)"
   ]
  },
  {
   "cell_type": "markdown",
   "id": "9dafd1d7-e041-4c45-a287-a08e0254d7e7",
   "metadata": {},
   "source": [
    "Prepare oversampling sets:"
   ]
  },
  {
   "cell_type": "code",
   "execution_count": 17,
   "id": "89d48523-4ef2-4dc7-ae8c-d9c1c79a953e",
   "metadata": {},
   "outputs": [
    {
     "data": {
      "text/plain": [
       "((2380, 179), (2380, 17))"
      ]
     },
     "execution_count": 17,
     "metadata": {},
     "output_type": "execute_result"
    }
   ],
   "source": [
    "# how often to oversample the positive set\n",
    "n = len(xf) // len(xt)\n",
    "x_os = np.vstack((xf,)+(xt,)*n)\n",
    "y_os = np.vstack((yf,)+(yt,)*n)\n",
    "\n",
    "from sklearn.utils import shuffle\n",
    "x_os, y_os = shuffle(x_os, y_os, random_state=0)\n",
    "(x_os.shape, y_os.shape)"
   ]
  },
  {
   "cell_type": "markdown",
   "id": "b05f7278-b185-4912-ade8-29c2312cc3cb",
   "metadata": {},
   "source": [
    "Train the model:"
   ]
  },
  {
   "cell_type": "code",
   "execution_count": 18,
   "id": "d523de77-94ce-4717-9fe4-e1b162deedbc",
   "metadata": {
    "scrolled": true
   },
   "outputs": [
    {
     "name": "stdout",
     "output_type": "stream",
     "text": [
      "Epoch 1/500\n"
     ]
    },
    {
     "name": "stderr",
     "output_type": "stream",
     "text": [
      "2024-03-01 22:26:54.611010: I external/local_xla/xla/service/service.cc:168] XLA service 0x7f002c87b280 initialized for platform CUDA (this does not guarantee that XLA will be used). Devices:\n",
      "2024-03-01 22:26:54.611075: I external/local_xla/xla/service/service.cc:176]   StreamExecutor device (0): NVIDIA GeForce GTX 1660 Ti, Compute Capability 7.5\n",
      "2024-03-01 22:26:54.625331: I tensorflow/compiler/mlir/tensorflow/utils/dump_mlir_util.cc:269] disabling MLIR crash reproducer, set env var `MLIR_CRASH_REPRODUCER_DIRECTORY` to enable.\n",
      "2024-03-01 22:26:54.646417: I external/local_xla/xla/stream_executor/cuda/cuda_dnn.cc:454] Loaded cuDNN version 8904\n",
      "WARNING: All log messages before absl::InitializeLog() is called are written to STDERR\n",
      "I0000 00:00:1709328414.705027   63959 device_compiler.h:186] Compiled cluster using XLA!  This line is logged at most once for the lifetime of the process.\n"
     ]
    },
    {
     "name": "stdout",
     "output_type": "stream",
     "text": [
      "75/75 [==============================] - 5s 33ms/step - loss: 14.7539 - custom_metric: 0.6433 - binary_accuracy: 0.9788 - recall: 0.4687 - inv_distance: 0.8693 - val_loss: 14.0125 - val_custom_metric: 0.8454 - val_binary_accuracy: 0.9891 - val_recall: 0.9140 - val_inv_distance: 0.9529\n",
      "Epoch 2/500\n",
      "75/75 [==============================] - 2s 31ms/step - loss: 13.3753 - custom_metric: 0.8742 - binary_accuracy: 0.9939 - recall: 0.8002 - inv_distance: 0.9721 - val_loss: 12.7484 - val_custom_metric: 0.8384 - val_binary_accuracy: 0.9929 - val_recall: 0.7697 - val_inv_distance: 0.9717\n",
      "Epoch 3/500\n",
      "75/75 [==============================] - 2s 30ms/step - loss: 12.1722 - custom_metric: 0.9103 - binary_accuracy: 0.9953 - recall: 0.8605 - inv_distance: 0.9799 - val_loss: 11.6026 - val_custom_metric: 0.8743 - val_binary_accuracy: 0.9945 - val_recall: 0.8184 - val_inv_distance: 0.9768\n",
      "Epoch 4/500\n",
      "75/75 [==============================] - 2s 31ms/step - loss: 11.0775 - custom_metric: 0.9287 - binary_accuracy: 0.9963 - recall: 0.8840 - inv_distance: 0.9833 - val_loss: 10.5611 - val_custom_metric: 0.8456 - val_binary_accuracy: 0.9937 - val_recall: 0.7529 - val_inv_distance: 0.9801\n",
      "Epoch 5/500\n",
      "75/75 [==============================] - 2s 31ms/step - loss: 10.0814 - custom_metric: 0.9415 - binary_accuracy: 0.9970 - recall: 0.9107 - inv_distance: 0.9851 - val_loss: 9.6147 - val_custom_metric: 0.8195 - val_binary_accuracy: 0.9935 - val_recall: 0.6801 - val_inv_distance: 0.9812\n",
      "Epoch 6/500\n",
      "75/75 [==============================] - 2s 30ms/step - loss: 9.1750 - custom_metric: 0.9442 - binary_accuracy: 0.9973 - recall: 0.9127 - inv_distance: 0.9865 - val_loss: 8.7480 - val_custom_metric: 0.8643 - val_binary_accuracy: 0.9945 - val_recall: 0.7848 - val_inv_distance: 0.9830\n",
      "Epoch 7/500\n",
      "75/75 [==============================] - 2s 30ms/step - loss: 8.3497 - custom_metric: 0.9540 - binary_accuracy: 0.9976 - recall: 0.9316 - inv_distance: 0.9874 - val_loss: 7.9630 - val_custom_metric: 0.8643 - val_binary_accuracy: 0.9945 - val_recall: 0.7848 - val_inv_distance: 0.9837\n",
      "Epoch 8/500\n",
      "75/75 [==============================] - 2s 30ms/step - loss: 7.5987 - custom_metric: 0.9629 - binary_accuracy: 0.9979 - recall: 0.9465 - inv_distance: 0.9885 - val_loss: 7.2480 - val_custom_metric: 0.8780 - val_binary_accuracy: 0.9955 - val_recall: 0.7848 - val_inv_distance: 0.9842\n",
      "Epoch 9/500\n",
      "75/75 [==============================] - 2s 30ms/step - loss: 6.9151 - custom_metric: 0.9611 - binary_accuracy: 0.9981 - recall: 0.9391 - inv_distance: 0.9891 - val_loss: 6.5975 - val_custom_metric: 0.8781 - val_binary_accuracy: 0.9955 - val_recall: 0.7848 - val_inv_distance: 0.9848\n",
      "Epoch 10/500\n",
      "75/75 [==============================] - 2s 30ms/step - loss: 6.2932 - custom_metric: 0.9630 - binary_accuracy: 0.9981 - recall: 0.9438 - inv_distance: 0.9895 - val_loss: 6.0037 - val_custom_metric: 0.8959 - val_binary_accuracy: 0.9956 - val_recall: 0.8279 - val_inv_distance: 0.9855\n",
      "Epoch 11/500\n",
      "75/75 [==============================] - 2s 31ms/step - loss: 5.7271 - custom_metric: 0.9654 - binary_accuracy: 0.9982 - recall: 0.9466 - inv_distance: 0.9900 - val_loss: 5.4649 - val_custom_metric: 0.8880 - val_binary_accuracy: 0.9953 - val_recall: 0.8221 - val_inv_distance: 0.9857\n",
      "Epoch 12/500\n",
      "75/75 [==============================] - 2s 31ms/step - loss: 5.2120 - custom_metric: 0.9680 - binary_accuracy: 0.9983 - recall: 0.9466 - inv_distance: 0.9903 - val_loss: 4.9775 - val_custom_metric: 0.9190 - val_binary_accuracy: 0.9950 - val_recall: 0.9546 - val_inv_distance: 0.9840\n",
      "Epoch 13/500\n",
      "75/75 [==============================] - 2s 30ms/step - loss: 4.7434 - custom_metric: 0.9673 - binary_accuracy: 0.9984 - recall: 0.9494 - inv_distance: 0.9905 - val_loss: 4.5283 - val_custom_metric: 0.8867 - val_binary_accuracy: 0.9956 - val_recall: 0.8036 - val_inv_distance: 0.9862\n",
      "Epoch 14/500\n",
      "75/75 [==============================] - 2s 30ms/step - loss: 4.3168 - custom_metric: 0.9707 - binary_accuracy: 0.9985 - recall: 0.9541 - inv_distance: 0.9909 - val_loss: 4.1238 - val_custom_metric: 0.8692 - val_binary_accuracy: 0.9948 - val_recall: 0.7856 - val_inv_distance: 0.9856\n",
      "Epoch 15/500\n",
      "75/75 [==============================] - 2s 31ms/step - loss: 3.9287 - custom_metric: 0.9726 - binary_accuracy: 0.9986 - recall: 0.9584 - inv_distance: 0.9912 - val_loss: 3.7527 - val_custom_metric: 0.8827 - val_binary_accuracy: 0.9953 - val_recall: 0.8036 - val_inv_distance: 0.9862\n",
      "Epoch 16/500\n",
      "75/75 [==============================] - 2s 30ms/step - loss: 3.5757 - custom_metric: 0.9759 - binary_accuracy: 0.9987 - recall: 0.9652 - inv_distance: 0.9914 - val_loss: 3.4169 - val_custom_metric: 0.8781 - val_binary_accuracy: 0.9953 - val_recall: 0.7932 - val_inv_distance: 0.9864\n",
      "Epoch 17/500\n",
      "75/75 [==============================] - 2s 30ms/step - loss: 3.2545 - custom_metric: 0.9750 - binary_accuracy: 0.9987 - recall: 0.9589 - inv_distance: 0.9914 - val_loss: 3.1104 - val_custom_metric: 0.8854 - val_binary_accuracy: 0.9951 - val_recall: 0.8175 - val_inv_distance: 0.9864\n",
      "Epoch 18/500\n",
      "75/75 [==============================] - 2s 31ms/step - loss: 2.9622 - custom_metric: 0.9778 - binary_accuracy: 0.9989 - recall: 0.9652 - inv_distance: 0.9917 - val_loss: 2.8331 - val_custom_metric: 0.8746 - val_binary_accuracy: 0.9953 - val_recall: 0.7781 - val_inv_distance: 0.9865\n",
      "Epoch 19/500\n",
      "75/75 [==============================] - 2s 31ms/step - loss: 2.6963 - custom_metric: 0.9765 - binary_accuracy: 0.9988 - recall: 0.9632 - inv_distance: 0.9918 - val_loss: 2.5788 - val_custom_metric: 0.9137 - val_binary_accuracy: 0.9956 - val_recall: 0.8811 - val_inv_distance: 0.9864\n",
      "Epoch 20/500\n",
      "75/75 [==============================] - 2s 31ms/step - loss: 2.4545 - custom_metric: 0.9745 - binary_accuracy: 0.9988 - recall: 0.9605 - inv_distance: 0.9917 - val_loss: 2.3482 - val_custom_metric: 0.8875 - val_binary_accuracy: 0.9953 - val_recall: 0.8175 - val_inv_distance: 0.9868\n",
      "Epoch 21/500\n",
      "75/75 [==============================] - 2s 30ms/step - loss: 2.2344 - custom_metric: 0.9794 - binary_accuracy: 0.9990 - recall: 0.9681 - inv_distance: 0.9920 - val_loss: 2.1402 - val_custom_metric: 0.8760 - val_binary_accuracy: 0.9953 - val_recall: 0.7810 - val_inv_distance: 0.9864\n",
      "Epoch 22/500\n",
      "75/75 [==============================] - 2s 31ms/step - loss: 2.0342 - custom_metric: 0.9760 - binary_accuracy: 0.9988 - recall: 0.9606 - inv_distance: 0.9921 - val_loss: 1.9482 - val_custom_metric: 0.8899 - val_binary_accuracy: 0.9955 - val_recall: 0.8175 - val_inv_distance: 0.9867\n",
      "Epoch 23/500\n",
      "75/75 [==============================] - 2s 30ms/step - loss: 1.8520 - custom_metric: 0.9775 - binary_accuracy: 0.9988 - recall: 0.9661 - inv_distance: 0.9921 - val_loss: 1.7748 - val_custom_metric: 0.8875 - val_binary_accuracy: 0.9953 - val_recall: 0.8175 - val_inv_distance: 0.9868\n",
      "Epoch 24/500\n",
      "75/75 [==============================] - 2s 31ms/step - loss: 1.6865 - custom_metric: 0.9790 - binary_accuracy: 0.9989 - recall: 0.9684 - inv_distance: 0.9921 - val_loss: 1.6169 - val_custom_metric: 0.8858 - val_binary_accuracy: 0.9951 - val_recall: 0.8175 - val_inv_distance: 0.9869\n",
      "Epoch 25/500\n",
      "75/75 [==============================] - 2s 31ms/step - loss: 1.5357 - custom_metric: 0.9752 - binary_accuracy: 0.9989 - recall: 0.9608 - inv_distance: 0.9923 - val_loss: 1.4727 - val_custom_metric: 0.8882 - val_binary_accuracy: 0.9955 - val_recall: 0.8099 - val_inv_distance: 0.9873\n",
      "Epoch 26/500\n",
      "75/75 [==============================] - 2s 31ms/step - loss: 1.3986 - custom_metric: 0.9811 - binary_accuracy: 0.9990 - recall: 0.9717 - inv_distance: 0.9922 - val_loss: 1.3419 - val_custom_metric: 0.9053 - val_binary_accuracy: 0.9961 - val_recall: 0.8447 - val_inv_distance: 0.9874\n",
      "Epoch 27/500\n",
      "75/75 [==============================] - 2s 31ms/step - loss: 1.2738 - custom_metric: 0.9768 - binary_accuracy: 0.9988 - recall: 0.9657 - inv_distance: 0.9923 - val_loss: 1.2239 - val_custom_metric: 0.8900 - val_binary_accuracy: 0.9955 - val_recall: 0.8175 - val_inv_distance: 0.9870\n",
      "Epoch 28/500\n",
      "75/75 [==============================] - 2s 31ms/step - loss: 1.1604 - custom_metric: 0.9772 - binary_accuracy: 0.9989 - recall: 0.9641 - inv_distance: 0.9923 - val_loss: 1.1166 - val_custom_metric: 0.8687 - val_binary_accuracy: 0.9950 - val_recall: 0.7706 - val_inv_distance: 0.9869\n",
      "Epoch 29/500\n",
      "75/75 [==============================] - 2s 31ms/step - loss: 1.0572 - custom_metric: 0.9799 - binary_accuracy: 0.9989 - recall: 0.9692 - inv_distance: 0.9924 - val_loss: 1.0184 - val_custom_metric: 0.8571 - val_binary_accuracy: 0.9950 - val_recall: 0.7387 - val_inv_distance: 0.9867\n",
      "Epoch 30/500\n",
      "75/75 [==============================] - 2s 31ms/step - loss: 0.9633 - custom_metric: 0.9777 - binary_accuracy: 0.9989 - recall: 0.9645 - inv_distance: 0.9926 - val_loss: 0.9273 - val_custom_metric: 0.8932 - val_binary_accuracy: 0.9956 - val_recall: 0.8221 - val_inv_distance: 0.9874\n",
      "Epoch 31/500\n",
      "75/75 [==============================] - 2s 31ms/step - loss: 0.8778 - custom_metric: 0.9780 - binary_accuracy: 0.9990 - recall: 0.9641 - inv_distance: 0.9926 - val_loss: 0.8472 - val_custom_metric: 0.8717 - val_binary_accuracy: 0.9950 - val_recall: 0.7810 - val_inv_distance: 0.9870\n",
      "Epoch 32/500\n",
      "75/75 [==============================] - 2s 31ms/step - loss: 0.8001 - custom_metric: 0.9798 - binary_accuracy: 0.9989 - recall: 0.9697 - inv_distance: 0.9925 - val_loss: 0.7722 - val_custom_metric: 0.8947 - val_binary_accuracy: 0.9958 - val_recall: 0.8175 - val_inv_distance: 0.9874\n",
      "Epoch 33/500\n",
      "75/75 [==============================] - 2s 31ms/step - loss: 0.7295 - custom_metric: 0.9796 - binary_accuracy: 0.9990 - recall: 0.9692 - inv_distance: 0.9925 - val_loss: 0.7074 - val_custom_metric: 0.8706 - val_binary_accuracy: 0.9951 - val_recall: 0.7706 - val_inv_distance: 0.9863\n",
      "Epoch 34/500\n",
      "75/75 [==============================] - 2s 30ms/step - loss: 0.6651 - custom_metric: 0.9804 - binary_accuracy: 0.9989 - recall: 0.9714 - inv_distance: 0.9927 - val_loss: 0.6466 - val_custom_metric: 0.8664 - val_binary_accuracy: 0.9950 - val_recall: 0.7630 - val_inv_distance: 0.9861\n",
      "Epoch 35/500\n",
      "75/75 [==============================] - 2s 30ms/step - loss: 0.6067 - custom_metric: 0.9801 - binary_accuracy: 0.9990 - recall: 0.9698 - inv_distance: 0.9927 - val_loss: 0.5873 - val_custom_metric: 0.8956 - val_binary_accuracy: 0.9958 - val_recall: 0.8221 - val_inv_distance: 0.9879\n",
      "Epoch 36/500\n",
      "75/75 [==============================] - 2s 31ms/step - loss: 0.5533 - custom_metric: 0.9811 - binary_accuracy: 0.9990 - recall: 0.9730 - inv_distance: 0.9929 - val_loss: 0.5393 - val_custom_metric: 0.8636 - val_binary_accuracy: 0.9948 - val_recall: 0.7584 - val_inv_distance: 0.9863\n",
      "Epoch 37/500\n",
      "75/75 [==============================] - 2s 31ms/step - loss: 0.5050 - custom_metric: 0.9795 - binary_accuracy: 0.9989 - recall: 0.9692 - inv_distance: 0.9927 - val_loss: 0.4919 - val_custom_metric: 0.8884 - val_binary_accuracy: 0.9953 - val_recall: 0.8192 - val_inv_distance: 0.9870\n",
      "Epoch 38/500\n",
      "75/75 [==============================] - 2s 31ms/step - loss: 0.4609 - custom_metric: 0.9792 - binary_accuracy: 0.9990 - recall: 0.9671 - inv_distance: 0.9929 - val_loss: 0.4494 - val_custom_metric: 0.8956 - val_binary_accuracy: 0.9955 - val_recall: 0.8390 - val_inv_distance: 0.9874\n",
      "Epoch 39/500\n",
      "75/75 [==============================] - 2s 30ms/step - loss: 0.4208 - custom_metric: 0.9811 - binary_accuracy: 0.9991 - recall: 0.9711 - inv_distance: 0.9929 - val_loss: 0.4115 - val_custom_metric: 0.8930 - val_binary_accuracy: 0.9956 - val_recall: 0.8145 - val_inv_distance: 0.9872\n",
      "Epoch 40/500\n",
      "75/75 [==============================] - 2s 31ms/step - loss: 0.3844 - custom_metric: 0.9811 - binary_accuracy: 0.9990 - recall: 0.9727 - inv_distance: 0.9930 - val_loss: 0.3759 - val_custom_metric: 0.8939 - val_binary_accuracy: 0.9956 - val_recall: 0.8192 - val_inv_distance: 0.9877\n",
      "Epoch 41/500\n",
      "75/75 [==============================] - 2s 31ms/step - loss: 0.3512 - custom_metric: 0.9808 - binary_accuracy: 0.9990 - recall: 0.9738 - inv_distance: 0.9929 - val_loss: 0.3463 - val_custom_metric: 0.8695 - val_binary_accuracy: 0.9950 - val_recall: 0.7722 - val_inv_distance: 0.9869\n",
      "Epoch 42/500\n",
      "75/75 [==============================] - 2s 30ms/step - loss: 0.3211 - custom_metric: 0.9808 - binary_accuracy: 0.9990 - recall: 0.9704 - inv_distance: 0.9929 - val_loss: 0.3161 - val_custom_metric: 0.8922 - val_binary_accuracy: 0.9953 - val_recall: 0.8343 - val_inv_distance: 0.9875\n",
      "Epoch 43/500\n",
      "75/75 [==============================] - 2s 31ms/step - loss: 0.2935 - custom_metric: 0.9818 - binary_accuracy: 0.9991 - recall: 0.9710 - inv_distance: 0.9929 - val_loss: 0.2901 - val_custom_metric: 0.8930 - val_binary_accuracy: 0.9956 - val_recall: 0.8145 - val_inv_distance: 0.9873\n",
      "Epoch 44/500\n",
      "75/75 [==============================] - 2s 30ms/step - loss: 0.2686 - custom_metric: 0.9829 - binary_accuracy: 0.9991 - recall: 0.9744 - inv_distance: 0.9930 - val_loss: 0.2669 - val_custom_metric: 0.8769 - val_binary_accuracy: 0.9951 - val_recall: 0.7902 - val_inv_distance: 0.9871\n",
      "Epoch 45/500\n",
      "75/75 [==============================] - 2s 30ms/step - loss: 0.2459 - custom_metric: 0.9824 - binary_accuracy: 0.9991 - recall: 0.9744 - inv_distance: 0.9930 - val_loss: 0.2445 - val_custom_metric: 0.8939 - val_binary_accuracy: 0.9956 - val_recall: 0.8192 - val_inv_distance: 0.9874\n",
      "Epoch 46/500\n",
      "75/75 [==============================] - 2s 30ms/step - loss: 0.2252 - custom_metric: 0.9791 - binary_accuracy: 0.9989 - recall: 0.9696 - inv_distance: 0.9930 - val_loss: 0.2247 - val_custom_metric: 0.8997 - val_binary_accuracy: 0.9955 - val_recall: 0.8434 - val_inv_distance: 0.9874\n",
      "Epoch 47/500\n",
      "75/75 [==============================] - 2s 30ms/step - loss: 0.2062 - custom_metric: 0.9815 - binary_accuracy: 0.9991 - recall: 0.9712 - inv_distance: 0.9932 - val_loss: 0.2074 - val_custom_metric: 0.8897 - val_binary_accuracy: 0.9958 - val_recall: 0.7965 - val_inv_distance: 0.9872\n",
      "Epoch 48/500\n",
      "75/75 [==============================] - 2s 30ms/step - loss: 0.1893 - custom_metric: 0.9816 - binary_accuracy: 0.9991 - recall: 0.9705 - inv_distance: 0.9930 - val_loss: 0.1917 - val_custom_metric: 0.8758 - val_binary_accuracy: 0.9953 - val_recall: 0.7798 - val_inv_distance: 0.9872\n",
      "Epoch 49/500\n",
      "75/75 [==============================] - 2s 30ms/step - loss: 0.1736 - custom_metric: 0.9804 - binary_accuracy: 0.9991 - recall: 0.9667 - inv_distance: 0.9933 - val_loss: 0.1757 - val_custom_metric: 0.8876 - val_binary_accuracy: 0.9955 - val_recall: 0.8041 - val_inv_distance: 0.9876\n",
      "Epoch 50/500\n",
      "75/75 [==============================] - 2s 30ms/step - loss: 0.1595 - custom_metric: 0.9828 - binary_accuracy: 0.9991 - recall: 0.9745 - inv_distance: 0.9931 - val_loss: 0.1622 - val_custom_metric: 0.8906 - val_binary_accuracy: 0.9955 - val_recall: 0.8145 - val_inv_distance: 0.9875\n",
      "Epoch 51/500\n",
      "75/75 [==============================] - 2s 30ms/step - loss: 0.1464 - custom_metric: 0.9819 - binary_accuracy: 0.9991 - recall: 0.9720 - inv_distance: 0.9932 - val_loss: 0.1499 - val_custom_metric: 0.8848 - val_binary_accuracy: 0.9953 - val_recall: 0.8041 - val_inv_distance: 0.9876\n",
      "Epoch 52/500\n",
      "75/75 [==============================] - 2s 31ms/step - loss: 0.1348 - custom_metric: 0.9842 - binary_accuracy: 0.9992 - recall: 0.9742 - inv_distance: 0.9931 - val_loss: 0.1381 - val_custom_metric: 0.9029 - val_binary_accuracy: 0.9959 - val_recall: 0.8390 - val_inv_distance: 0.9880\n",
      "Epoch 53/500\n",
      "75/75 [==============================] - 2s 31ms/step - loss: 0.1241 - custom_metric: 0.9800 - binary_accuracy: 0.9991 - recall: 0.9674 - inv_distance: 0.9932 - val_loss: 0.1281 - val_custom_metric: 0.8912 - val_binary_accuracy: 0.9955 - val_recall: 0.8145 - val_inv_distance: 0.9878\n",
      "Epoch 54/500\n",
      "75/75 [==============================] - 2s 31ms/step - loss: 0.1144 - custom_metric: 0.9808 - binary_accuracy: 0.9990 - recall: 0.9700 - inv_distance: 0.9932 - val_loss: 0.1192 - val_custom_metric: 0.8912 - val_binary_accuracy: 0.9955 - val_recall: 0.8145 - val_inv_distance: 0.9877\n",
      "Epoch 55/500\n",
      "75/75 [==============================] - 2s 31ms/step - loss: 0.1054 - custom_metric: 0.9833 - binary_accuracy: 0.9992 - recall: 0.9742 - inv_distance: 0.9933 - val_loss: 0.1098 - val_custom_metric: 0.9014 - val_binary_accuracy: 0.9958 - val_recall: 0.8390 - val_inv_distance: 0.9882\n",
      "Epoch 56/500\n",
      "75/75 [==============================] - 2s 31ms/step - loss: 0.0974 - custom_metric: 0.9817 - binary_accuracy: 0.9991 - recall: 0.9725 - inv_distance: 0.9933 - val_loss: 0.1023 - val_custom_metric: 0.8997 - val_binary_accuracy: 0.9959 - val_recall: 0.8267 - val_inv_distance: 0.9881\n",
      "Epoch 57/500\n",
      "75/75 [==============================] - 2s 30ms/step - loss: 0.0901 - custom_metric: 0.9805 - binary_accuracy: 0.9990 - recall: 0.9687 - inv_distance: 0.9932 - val_loss: 0.0960 - val_custom_metric: 0.8720 - val_binary_accuracy: 0.9950 - val_recall: 0.7798 - val_inv_distance: 0.9878\n",
      "Epoch 58/500\n",
      "75/75 [==============================] - 2s 31ms/step - loss: 0.0833 - custom_metric: 0.9795 - binary_accuracy: 0.9990 - recall: 0.9684 - inv_distance: 0.9933 - val_loss: 0.0896 - val_custom_metric: 0.8952 - val_binary_accuracy: 0.9959 - val_recall: 0.8070 - val_inv_distance: 0.9876\n",
      "Epoch 59/500\n",
      "75/75 [==============================] - 2s 31ms/step - loss: 0.0773 - custom_metric: 0.9815 - binary_accuracy: 0.9991 - recall: 0.9724 - inv_distance: 0.9934 - val_loss: 0.0836 - val_custom_metric: 0.8953 - val_binary_accuracy: 0.9956 - val_recall: 0.8221 - val_inv_distance: 0.9880\n",
      "Epoch 60/500\n",
      "75/75 [==============================] - 2s 30ms/step - loss: 0.0717 - custom_metric: 0.9811 - binary_accuracy: 0.9990 - recall: 0.9712 - inv_distance: 0.9934 - val_loss: 0.0776 - val_custom_metric: 0.8966 - val_binary_accuracy: 0.9958 - val_recall: 0.8238 - val_inv_distance: 0.9882\n",
      "Epoch 61/500\n",
      "75/75 [==============================] - 2s 30ms/step - loss: 0.0666 - custom_metric: 0.9799 - binary_accuracy: 0.9989 - recall: 0.9705 - inv_distance: 0.9934 - val_loss: 0.0735 - val_custom_metric: 0.9007 - val_binary_accuracy: 0.9959 - val_recall: 0.8314 - val_inv_distance: 0.9880\n",
      "Epoch 62/500\n",
      "75/75 [==============================] - 2s 31ms/step - loss: 0.0621 - custom_metric: 0.9825 - binary_accuracy: 0.9991 - recall: 0.9739 - inv_distance: 0.9934 - val_loss: 0.0702 - val_custom_metric: 0.8769 - val_binary_accuracy: 0.9953 - val_recall: 0.7798 - val_inv_distance: 0.9872\n",
      "Epoch 63/500\n",
      "75/75 [==============================] - 2s 31ms/step - loss: 0.0577 - custom_metric: 0.9823 - binary_accuracy: 0.9991 - recall: 0.9728 - inv_distance: 0.9935 - val_loss: 0.0662 - val_custom_metric: 0.8726 - val_binary_accuracy: 0.9951 - val_recall: 0.7722 - val_inv_distance: 0.9873\n",
      "Epoch 64/500\n",
      "75/75 [==============================] - 2s 31ms/step - loss: 0.0539 - custom_metric: 0.9810 - binary_accuracy: 0.9991 - recall: 0.9696 - inv_distance: 0.9935 - val_loss: 0.0623 - val_custom_metric: 0.8793 - val_binary_accuracy: 0.9953 - val_recall: 0.7902 - val_inv_distance: 0.9876\n",
      "Epoch 65/500\n",
      "75/75 [==============================] - 2s 31ms/step - loss: 0.0505 - custom_metric: 0.9836 - binary_accuracy: 0.9992 - recall: 0.9731 - inv_distance: 0.9935 - val_loss: 0.0581 - val_custom_metric: 0.8948 - val_binary_accuracy: 0.9953 - val_recall: 0.8436 - val_inv_distance: 0.9881\n",
      "Epoch 66/500\n",
      "75/75 [==============================] - 2s 31ms/step - loss: 0.0473 - custom_metric: 0.9810 - binary_accuracy: 0.9990 - recall: 0.9693 - inv_distance: 0.9935 - val_loss: 0.0560 - val_custom_metric: 0.8769 - val_binary_accuracy: 0.9953 - val_recall: 0.7798 - val_inv_distance: 0.9874\n",
      "Epoch 67/500\n",
      "75/75 [==============================] - 2s 31ms/step - loss: 0.0444 - custom_metric: 0.9819 - binary_accuracy: 0.9991 - recall: 0.9712 - inv_distance: 0.9935 - val_loss: 0.0520 - val_custom_metric: 0.9328 - val_binary_accuracy: 0.9959 - val_recall: 0.9505 - val_inv_distance: 0.9882\n",
      "Epoch 68/500\n",
      "75/75 [==============================] - 2s 31ms/step - loss: 0.0418 - custom_metric: 0.9815 - binary_accuracy: 0.9991 - recall: 0.9729 - inv_distance: 0.9936 - val_loss: 0.0526 - val_custom_metric: 0.8769 - val_binary_accuracy: 0.9955 - val_recall: 0.7722 - val_inv_distance: 0.9865\n",
      "Epoch 69/500\n",
      "75/75 [==============================] - 2s 30ms/step - loss: 0.0395 - custom_metric: 0.9784 - binary_accuracy: 0.9989 - recall: 0.9642 - inv_distance: 0.9933 - val_loss: 0.0479 - val_custom_metric: 0.9082 - val_binary_accuracy: 0.9955 - val_recall: 0.8707 - val_inv_distance: 0.9878\n",
      "Epoch 70/500\n",
      "75/75 [==============================] - 2s 31ms/step - loss: 0.0372 - custom_metric: 0.9820 - binary_accuracy: 0.9991 - recall: 0.9718 - inv_distance: 0.9935 - val_loss: 0.0453 - val_custom_metric: 0.8947 - val_binary_accuracy: 0.9956 - val_recall: 0.8192 - val_inv_distance: 0.9879\n",
      "Epoch 71/500\n",
      "75/75 [==============================] - 2s 30ms/step - loss: 0.0351 - custom_metric: 0.9833 - binary_accuracy: 0.9991 - recall: 0.9744 - inv_distance: 0.9938 - val_loss: 0.0441 - val_custom_metric: 0.8727 - val_binary_accuracy: 0.9951 - val_recall: 0.7722 - val_inv_distance: 0.9875\n",
      "Epoch 72/500\n",
      "75/75 [==============================] - 2s 30ms/step - loss: 0.0333 - custom_metric: 0.9822 - binary_accuracy: 0.9992 - recall: 0.9712 - inv_distance: 0.9936 - val_loss: 0.0416 - val_custom_metric: 0.9084 - val_binary_accuracy: 0.9958 - val_recall: 0.8602 - val_inv_distance: 0.9885\n",
      "Epoch 73/500\n",
      "75/75 [==============================] - 2s 30ms/step - loss: 0.0317 - custom_metric: 0.9804 - binary_accuracy: 0.9990 - recall: 0.9713 - inv_distance: 0.9936 - val_loss: 0.0410 - val_custom_metric: 0.8930 - val_binary_accuracy: 0.9956 - val_recall: 0.8145 - val_inv_distance: 0.9877\n",
      "Epoch 74/500\n",
      "75/75 [==============================] - 2s 30ms/step - loss: 0.0302 - custom_metric: 0.9800 - binary_accuracy: 0.9990 - recall: 0.9704 - inv_distance: 0.9936 - val_loss: 0.0392 - val_custom_metric: 0.8860 - val_binary_accuracy: 0.9950 - val_recall: 0.8145 - val_inv_distance: 0.9877\n",
      "Epoch 75/500\n",
      "75/75 [==============================] - 2s 30ms/step - loss: 0.0287 - custom_metric: 0.9826 - binary_accuracy: 0.9991 - recall: 0.9746 - inv_distance: 0.9937 - val_loss: 0.0377 - val_custom_metric: 0.8830 - val_binary_accuracy: 0.9947 - val_recall: 0.8267 - val_inv_distance: 0.9878\n",
      "Epoch 76/500\n",
      "75/75 [==============================] - 2s 30ms/step - loss: 0.0273 - custom_metric: 0.9834 - binary_accuracy: 0.9992 - recall: 0.9746 - inv_distance: 0.9938 - val_loss: 0.0429 - val_custom_metric: 0.7831 - val_binary_accuracy: 0.9927 - val_recall: 0.6068 - val_inv_distance: 0.9836\n",
      "Epoch 77/500\n",
      "75/75 [==============================] - 2s 29ms/step - loss: 0.0264 - custom_metric: 0.9804 - binary_accuracy: 0.9990 - recall: 0.9689 - inv_distance: 0.9934 - val_loss: 0.0361 - val_custom_metric: 0.8895 - val_binary_accuracy: 0.9953 - val_recall: 0.8145 - val_inv_distance: 0.9879\n",
      "Epoch 78/500\n",
      "75/75 [==============================] - 2s 30ms/step - loss: 0.0252 - custom_metric: 0.9818 - binary_accuracy: 0.9991 - recall: 0.9715 - inv_distance: 0.9938 - val_loss: 0.0348 - val_custom_metric: 0.8884 - val_binary_accuracy: 0.9951 - val_recall: 0.8145 - val_inv_distance: 0.9879\n",
      "Epoch 79/500\n",
      "75/75 [==============================] - 2s 30ms/step - loss: 0.0242 - custom_metric: 0.9830 - binary_accuracy: 0.9992 - recall: 0.9735 - inv_distance: 0.9938 - val_loss: 0.0350 - val_custom_metric: 0.8708 - val_binary_accuracy: 0.9950 - val_recall: 0.7722 - val_inv_distance: 0.9874\n",
      "Epoch 80/500\n",
      "75/75 [==============================] - 2s 30ms/step - loss: 0.0233 - custom_metric: 0.9828 - binary_accuracy: 0.9991 - recall: 0.9737 - inv_distance: 0.9939 - val_loss: 0.0324 - val_custom_metric: 0.9017 - val_binary_accuracy: 0.9955 - val_recall: 0.8434 - val_inv_distance: 0.9883\n",
      "Epoch 81/500\n",
      "75/75 [==============================] - 2s 30ms/step - loss: 0.0226 - custom_metric: 0.9817 - binary_accuracy: 0.9990 - recall: 0.9723 - inv_distance: 0.9937 - val_loss: 0.0315 - val_custom_metric: 0.8835 - val_binary_accuracy: 0.9948 - val_recall: 0.8145 - val_inv_distance: 0.9879\n",
      "Epoch 82/500\n",
      "75/75 [==============================] - 2s 30ms/step - loss: 0.0218 - custom_metric: 0.9804 - binary_accuracy: 0.9990 - recall: 0.9702 - inv_distance: 0.9938 - val_loss: 0.0315 - val_custom_metric: 0.8852 - val_binary_accuracy: 0.9951 - val_recall: 0.8070 - val_inv_distance: 0.9880\n",
      "Epoch 83/500\n",
      "75/75 [==============================] - 2s 30ms/step - loss: 0.0212 - custom_metric: 0.9815 - binary_accuracy: 0.9991 - recall: 0.9700 - inv_distance: 0.9938 - val_loss: 0.0304 - val_custom_metric: 0.8815 - val_binary_accuracy: 0.9950 - val_recall: 0.7994 - val_inv_distance: 0.9879\n",
      "Epoch 84/500\n",
      "75/75 [==============================] - 2s 30ms/step - loss: 0.0204 - custom_metric: 0.9858 - binary_accuracy: 0.9993 - recall: 0.9777 - inv_distance: 0.9939 - val_loss: 0.0297 - val_custom_metric: 0.8883 - val_binary_accuracy: 0.9951 - val_recall: 0.8192 - val_inv_distance: 0.9880\n",
      "Epoch 85/500\n",
      "75/75 [==============================] - 2s 30ms/step - loss: 0.0199 - custom_metric: 0.9851 - binary_accuracy: 0.9992 - recall: 0.9794 - inv_distance: 0.9938 - val_loss: 0.0299 - val_custom_metric: 0.8973 - val_binary_accuracy: 0.9953 - val_recall: 0.8312 - val_inv_distance: 0.9877\n",
      "Epoch 86/500\n",
      "75/75 [==============================] - 2s 30ms/step - loss: 0.0192 - custom_metric: 0.9858 - binary_accuracy: 0.9993 - recall: 0.9785 - inv_distance: 0.9940 - val_loss: 0.0303 - val_custom_metric: 0.8708 - val_binary_accuracy: 0.9950 - val_recall: 0.7722 - val_inv_distance: 0.9876\n",
      "Epoch 87/500\n",
      "75/75 [==============================] - 2s 30ms/step - loss: 0.0189 - custom_metric: 0.9834 - binary_accuracy: 0.9992 - recall: 0.9738 - inv_distance: 0.9939 - val_loss: 0.0289 - val_custom_metric: 0.8859 - val_binary_accuracy: 0.9951 - val_recall: 0.8070 - val_inv_distance: 0.9879\n",
      "Epoch 88/500\n",
      "75/75 [==============================] - 2s 30ms/step - loss: 0.0185 - custom_metric: 0.9822 - binary_accuracy: 0.9991 - recall: 0.9730 - inv_distance: 0.9939 - val_loss: 0.0272 - val_custom_metric: 0.8949 - val_binary_accuracy: 0.9956 - val_recall: 0.8145 - val_inv_distance: 0.9884\n",
      "Epoch 89/500\n",
      "75/75 [==============================] - 2s 30ms/step - loss: 0.0179 - custom_metric: 0.9829 - binary_accuracy: 0.9992 - recall: 0.9729 - inv_distance: 0.9938 - val_loss: 0.0314 - val_custom_metric: 0.8679 - val_binary_accuracy: 0.9951 - val_recall: 0.7571 - val_inv_distance: 0.9867\n",
      "Epoch 90/500\n",
      "75/75 [==============================] - 2s 30ms/step - loss: 0.0176 - custom_metric: 0.9828 - binary_accuracy: 0.9991 - recall: 0.9715 - inv_distance: 0.9939 - val_loss: 0.0272 - val_custom_metric: 0.8955 - val_binary_accuracy: 0.9955 - val_recall: 0.8314 - val_inv_distance: 0.9881\n",
      "Epoch 91/500\n",
      "75/75 [==============================] - 2s 30ms/step - loss: 0.0173 - custom_metric: 0.9836 - binary_accuracy: 0.9991 - recall: 0.9738 - inv_distance: 0.9939 - val_loss: 0.0267 - val_custom_metric: 0.9179 - val_binary_accuracy: 0.9958 - val_recall: 0.8933 - val_inv_distance: 0.9881\n",
      "Epoch 92/500\n",
      "75/75 [==============================] - 2s 31ms/step - loss: 0.0168 - custom_metric: 0.9837 - binary_accuracy: 0.9992 - recall: 0.9746 - inv_distance: 0.9940 - val_loss: 0.0280 - val_custom_metric: 0.8858 - val_binary_accuracy: 0.9948 - val_recall: 0.8208 - val_inv_distance: 0.9876\n",
      "Epoch 93/500\n",
      "75/75 [==============================] - 2s 30ms/step - loss: 0.0165 - custom_metric: 0.9819 - binary_accuracy: 0.9991 - recall: 0.9714 - inv_distance: 0.9940 - val_loss: 0.0266 - val_custom_metric: 0.8816 - val_binary_accuracy: 0.9948 - val_recall: 0.8070 - val_inv_distance: 0.9878\n",
      "Epoch 94/500\n",
      "75/75 [==============================] - 2s 31ms/step - loss: 0.0163 - custom_metric: 0.9800 - binary_accuracy: 0.9991 - recall: 0.9618 - inv_distance: 0.9940 - val_loss: 0.0259 - val_custom_metric: 0.8902 - val_binary_accuracy: 0.9953 - val_recall: 0.8145 - val_inv_distance: 0.9882\n",
      "Epoch 95/500\n",
      "75/75 [==============================] - 2s 31ms/step - loss: 0.0161 - custom_metric: 0.9840 - binary_accuracy: 0.9992 - recall: 0.9749 - inv_distance: 0.9940 - val_loss: 0.0263 - val_custom_metric: 0.8864 - val_binary_accuracy: 0.9953 - val_recall: 0.7994 - val_inv_distance: 0.9878\n",
      "Epoch 96/500\n",
      "75/75 [==============================] - 2s 31ms/step - loss: 0.0158 - custom_metric: 0.9863 - binary_accuracy: 0.9993 - recall: 0.9789 - inv_distance: 0.9940 - val_loss: 0.0251 - val_custom_metric: 0.8929 - val_binary_accuracy: 0.9955 - val_recall: 0.8192 - val_inv_distance: 0.9884\n",
      "Epoch 97/500\n",
      "75/75 [==============================] - 2s 30ms/step - loss: 0.0156 - custom_metric: 0.9850 - binary_accuracy: 0.9992 - recall: 0.9773 - inv_distance: 0.9941 - val_loss: 0.0255 - val_custom_metric: 0.8878 - val_binary_accuracy: 0.9953 - val_recall: 0.8070 - val_inv_distance: 0.9880\n",
      "Epoch 98/500\n",
      "75/75 [==============================] - 2s 30ms/step - loss: 0.0154 - custom_metric: 0.9837 - binary_accuracy: 0.9992 - recall: 0.9728 - inv_distance: 0.9940 - val_loss: 0.0257 - val_custom_metric: 0.8810 - val_binary_accuracy: 0.9951 - val_recall: 0.7890 - val_inv_distance: 0.9877\n",
      "Epoch 99/500\n",
      "75/75 [==============================] - 2s 31ms/step - loss: 0.0153 - custom_metric: 0.9855 - binary_accuracy: 0.9992 - recall: 0.9800 - inv_distance: 0.9940 - val_loss: 0.0255 - val_custom_metric: 0.8809 - val_binary_accuracy: 0.9951 - val_recall: 0.7890 - val_inv_distance: 0.9876\n",
      "Epoch 100/500\n",
      "75/75 [==============================] - 2s 31ms/step - loss: 0.0150 - custom_metric: 0.9840 - binary_accuracy: 0.9991 - recall: 0.9751 - inv_distance: 0.9941 - val_loss: 0.0247 - val_custom_metric: 0.8887 - val_binary_accuracy: 0.9953 - val_recall: 0.8116 - val_inv_distance: 0.9881\n",
      "Epoch 101/500\n",
      "75/75 [==============================] - 2s 31ms/step - loss: 0.0149 - custom_metric: 0.9847 - binary_accuracy: 0.9992 - recall: 0.9757 - inv_distance: 0.9941 - val_loss: 0.0259 - val_custom_metric: 0.8735 - val_binary_accuracy: 0.9948 - val_recall: 0.7827 - val_inv_distance: 0.9878\n",
      "Epoch 102/500\n",
      "75/75 [==============================] - 2s 30ms/step - loss: 0.0147 - custom_metric: 0.9809 - binary_accuracy: 0.9991 - recall: 0.9700 - inv_distance: 0.9941 - val_loss: 0.0259 - val_custom_metric: 0.8716 - val_binary_accuracy: 0.9950 - val_recall: 0.7722 - val_inv_distance: 0.9878\n",
      "Epoch 103/500\n",
      "75/75 [==============================] - 2s 30ms/step - loss: 0.0146 - custom_metric: 0.9828 - binary_accuracy: 0.9991 - recall: 0.9750 - inv_distance: 0.9940 - val_loss: 0.0244 - val_custom_metric: 0.8771 - val_binary_accuracy: 0.9947 - val_recall: 0.7994 - val_inv_distance: 0.9881\n",
      "Epoch 104/500\n",
      "75/75 [==============================] - 2s 31ms/step - loss: 0.0144 - custom_metric: 0.9839 - binary_accuracy: 0.9992 - recall: 0.9756 - inv_distance: 0.9942 - val_loss: 0.0264 - val_custom_metric: 0.8715 - val_binary_accuracy: 0.9951 - val_recall: 0.7647 - val_inv_distance: 0.9873\n",
      "Epoch 105/500\n",
      "75/75 [==============================] - 2s 31ms/step - loss: 0.0143 - custom_metric: 0.9818 - binary_accuracy: 0.9990 - recall: 0.9711 - inv_distance: 0.9940 - val_loss: 0.0246 - val_custom_metric: 0.8810 - val_binary_accuracy: 0.9951 - val_recall: 0.7890 - val_inv_distance: 0.9878\n",
      "Epoch 106/500\n",
      "75/75 [==============================] - 2s 30ms/step - loss: 0.0141 - custom_metric: 0.9868 - binary_accuracy: 0.9993 - recall: 0.9784 - inv_distance: 0.9942 - val_loss: 0.0250 - val_custom_metric: 0.8824 - val_binary_accuracy: 0.9953 - val_recall: 0.7931 - val_inv_distance: 0.9878\n",
      "Epoch 107/500\n",
      "75/75 [==============================] - 2s 31ms/step - loss: 0.0141 - custom_metric: 0.9821 - binary_accuracy: 0.9991 - recall: 0.9730 - inv_distance: 0.9942 - val_loss: 0.0250 - val_custom_metric: 0.8735 - val_binary_accuracy: 0.9948 - val_recall: 0.7827 - val_inv_distance: 0.9878\n",
      "Epoch 108/500\n",
      "75/75 [==============================] - 2s 30ms/step - loss: 0.0139 - custom_metric: 0.9841 - binary_accuracy: 0.9992 - recall: 0.9765 - inv_distance: 0.9942 - val_loss: 0.0248 - val_custom_metric: 0.8767 - val_binary_accuracy: 0.9945 - val_recall: 0.8070 - val_inv_distance: 0.9878\n",
      "Epoch 109/500\n",
      "75/75 [==============================] - 2s 30ms/step - loss: 0.0138 - custom_metric: 0.9827 - binary_accuracy: 0.9991 - recall: 0.9739 - inv_distance: 0.9942 - val_loss: 0.0232 - val_custom_metric: 0.8948 - val_binary_accuracy: 0.9955 - val_recall: 0.8360 - val_inv_distance: 0.9884\n",
      "Epoch 110/500\n",
      "75/75 [==============================] - 2s 30ms/step - loss: 0.0137 - custom_metric: 0.9844 - binary_accuracy: 0.9992 - recall: 0.9766 - inv_distance: 0.9941 - val_loss: 0.0241 - val_custom_metric: 0.8834 - val_binary_accuracy: 0.9950 - val_recall: 0.8070 - val_inv_distance: 0.9880\n",
      "Epoch 111/500\n",
      "75/75 [==============================] - 2s 31ms/step - loss: 0.0136 - custom_metric: 0.9825 - binary_accuracy: 0.9990 - recall: 0.9755 - inv_distance: 0.9941 - val_loss: 0.0259 - val_custom_metric: 0.9017 - val_binary_accuracy: 0.9950 - val_recall: 0.8660 - val_inv_distance: 0.9874\n",
      "Epoch 112/500\n",
      "75/75 [==============================] - 2s 30ms/step - loss: 0.0135 - custom_metric: 0.9842 - binary_accuracy: 0.9992 - recall: 0.9754 - inv_distance: 0.9944 - val_loss: 0.0239 - val_custom_metric: 0.8810 - val_binary_accuracy: 0.9951 - val_recall: 0.7890 - val_inv_distance: 0.9879\n",
      "Epoch 113/500\n",
      "75/75 [==============================] - 2s 31ms/step - loss: 0.0134 - custom_metric: 0.9846 - binary_accuracy: 0.9992 - recall: 0.9761 - inv_distance: 0.9942 - val_loss: 0.0243 - val_custom_metric: 0.8816 - val_binary_accuracy: 0.9948 - val_recall: 0.8070 - val_inv_distance: 0.9878\n",
      "Epoch 114/500\n",
      "75/75 [==============================] - 2s 30ms/step - loss: 0.0134 - custom_metric: 0.9840 - binary_accuracy: 0.9992 - recall: 0.9751 - inv_distance: 0.9942 - val_loss: 0.0245 - val_custom_metric: 0.8961 - val_binary_accuracy: 0.9953 - val_recall: 0.8236 - val_inv_distance: 0.9879\n",
      "Epoch 115/500\n",
      "75/75 [==============================] - 2s 30ms/step - loss: 0.0134 - custom_metric: 0.9833 - binary_accuracy: 0.9991 - recall: 0.9741 - inv_distance: 0.9942 - val_loss: 0.0244 - val_custom_metric: 0.8910 - val_binary_accuracy: 0.9950 - val_recall: 0.8329 - val_inv_distance: 0.9879\n",
      "Epoch 116/500\n",
      "75/75 [==============================] - 2s 30ms/step - loss: 0.0133 - custom_metric: 0.9855 - binary_accuracy: 0.9992 - recall: 0.9795 - inv_distance: 0.9942 - val_loss: 0.0267 - val_custom_metric: 0.8627 - val_binary_accuracy: 0.9947 - val_recall: 0.7571 - val_inv_distance: 0.9872\n",
      "Epoch 117/500\n",
      "75/75 [==============================] - 2s 30ms/step - loss: 0.0132 - custom_metric: 0.9812 - binary_accuracy: 0.9990 - recall: 0.9716 - inv_distance: 0.9942 - val_loss: 0.0238 - val_custom_metric: 0.8935 - val_binary_accuracy: 0.9953 - val_recall: 0.8161 - val_inv_distance: 0.9879\n",
      "Epoch 118/500\n",
      "75/75 [==============================] - 2s 30ms/step - loss: 0.0130 - custom_metric: 0.9846 - binary_accuracy: 0.9992 - recall: 0.9742 - inv_distance: 0.9943 - val_loss: 0.0232 - val_custom_metric: 0.8974 - val_binary_accuracy: 0.9951 - val_recall: 0.8480 - val_inv_distance: 0.9883\n",
      "Epoch 119/500\n",
      "75/75 [==============================] - 2s 31ms/step - loss: 0.0131 - custom_metric: 0.9835 - binary_accuracy: 0.9992 - recall: 0.9756 - inv_distance: 0.9943 - val_loss: 0.0233 - val_custom_metric: 0.8948 - val_binary_accuracy: 0.9953 - val_recall: 0.8236 - val_inv_distance: 0.9881\n",
      "Epoch 120/500\n",
      "75/75 [==============================] - 2s 30ms/step - loss: 0.0130 - custom_metric: 0.9829 - binary_accuracy: 0.9991 - recall: 0.9743 - inv_distance: 0.9943 - val_loss: 0.0227 - val_custom_metric: 0.8980 - val_binary_accuracy: 0.9955 - val_recall: 0.8372 - val_inv_distance: 0.9883\n",
      "Epoch 121/500\n",
      "75/75 [==============================] - 2s 30ms/step - loss: 0.0129 - custom_metric: 0.9843 - binary_accuracy: 0.9992 - recall: 0.9752 - inv_distance: 0.9942 - val_loss: 0.0233 - val_custom_metric: 0.8899 - val_binary_accuracy: 0.9948 - val_recall: 0.8312 - val_inv_distance: 0.9881\n",
      "Epoch 122/500\n",
      "75/75 [==============================] - 2s 30ms/step - loss: 0.0128 - custom_metric: 0.9853 - binary_accuracy: 0.9993 - recall: 0.9777 - inv_distance: 0.9944 - val_loss: 0.0230 - val_custom_metric: 0.8890 - val_binary_accuracy: 0.9953 - val_recall: 0.8070 - val_inv_distance: 0.9881\n",
      "Epoch 123/500\n",
      "75/75 [==============================] - 2s 30ms/step - loss: 0.0128 - custom_metric: 0.9838 - binary_accuracy: 0.9991 - recall: 0.9764 - inv_distance: 0.9943 - val_loss: 0.0237 - val_custom_metric: 0.9014 - val_binary_accuracy: 0.9953 - val_recall: 0.8509 - val_inv_distance: 0.9880\n",
      "Epoch 124/500\n",
      "75/75 [==============================] - 2s 30ms/step - loss: 0.0126 - custom_metric: 0.9848 - binary_accuracy: 0.9992 - recall: 0.9764 - inv_distance: 0.9943 - val_loss: 0.0229 - val_custom_metric: 0.8974 - val_binary_accuracy: 0.9955 - val_recall: 0.8236 - val_inv_distance: 0.9881\n",
      "Epoch 125/500\n",
      "75/75 [==============================] - 2s 29ms/step - loss: 0.0127 - custom_metric: 0.9832 - binary_accuracy: 0.9992 - recall: 0.9736 - inv_distance: 0.9944 - val_loss: 0.0232 - val_custom_metric: 0.8819 - val_binary_accuracy: 0.9948 - val_recall: 0.8116 - val_inv_distance: 0.9883\n",
      "Epoch 126/500\n",
      "75/75 [==============================] - 2s 30ms/step - loss: 0.0125 - custom_metric: 0.9834 - binary_accuracy: 0.9992 - recall: 0.9735 - inv_distance: 0.9944 - val_loss: 0.0227 - val_custom_metric: 0.8899 - val_binary_accuracy: 0.9953 - val_recall: 0.8145 - val_inv_distance: 0.9885\n",
      "Epoch 127/500\n",
      "75/75 [==============================] - 2s 29ms/step - loss: 0.0126 - custom_metric: 0.9848 - binary_accuracy: 0.9993 - recall: 0.9764 - inv_distance: 0.9944 - val_loss: 0.0237 - val_custom_metric: 0.8834 - val_binary_accuracy: 0.9950 - val_recall: 0.8070 - val_inv_distance: 0.9880\n",
      "Epoch 128/500\n",
      "75/75 [==============================] - 2s 29ms/step - loss: 0.0125 - custom_metric: 0.9843 - binary_accuracy: 0.9992 - recall: 0.9751 - inv_distance: 0.9943 - val_loss: 0.0246 - val_custom_metric: 0.9121 - val_binary_accuracy: 0.9953 - val_recall: 0.8979 - val_inv_distance: 0.9879\n",
      "Epoch 129/500\n",
      "75/75 [==============================] - 2s 30ms/step - loss: 0.0125 - custom_metric: 0.9827 - binary_accuracy: 0.9993 - recall: 0.9662 - inv_distance: 0.9944 - val_loss: 0.0243 - val_custom_metric: 0.8700 - val_binary_accuracy: 0.9950 - val_recall: 0.7693 - val_inv_distance: 0.9879\n",
      "Epoch 130/500\n",
      "75/75 [==============================] - 2s 30ms/step - loss: 0.0126 - custom_metric: 0.9782 - binary_accuracy: 0.9990 - recall: 0.9661 - inv_distance: 0.9942 - val_loss: 0.0221 - val_custom_metric: 0.8931 - val_binary_accuracy: 0.9955 - val_recall: 0.8145 - val_inv_distance: 0.9886\n",
      "Epoch 131/500\n",
      "75/75 [==============================] - 2s 30ms/step - loss: 0.0123 - custom_metric: 0.9845 - binary_accuracy: 0.9993 - recall: 0.9749 - inv_distance: 0.9945 - val_loss: 0.0244 - val_custom_metric: 0.8692 - val_binary_accuracy: 0.9950 - val_recall: 0.7647 - val_inv_distance: 0.9875\n",
      "Epoch 132/500\n",
      "75/75 [==============================] - 2s 31ms/step - loss: 0.0123 - custom_metric: 0.9794 - binary_accuracy: 0.9990 - recall: 0.9681 - inv_distance: 0.9945 - val_loss: 0.0228 - val_custom_metric: 0.8883 - val_binary_accuracy: 0.9948 - val_recall: 0.8342 - val_inv_distance: 0.9879\n",
      "Epoch 133/500\n",
      "75/75 [==============================] - 2s 30ms/step - loss: 0.0123 - custom_metric: 0.9864 - binary_accuracy: 0.9992 - recall: 0.9815 - inv_distance: 0.9944 - val_loss: 0.0232 - val_custom_metric: 0.8859 - val_binary_accuracy: 0.9951 - val_recall: 0.8070 - val_inv_distance: 0.9881\n",
      "Epoch 134/500\n",
      "75/75 [==============================] - 2s 31ms/step - loss: 0.0121 - custom_metric: 0.9853 - binary_accuracy: 0.9992 - recall: 0.9781 - inv_distance: 0.9946 - val_loss: 0.0224 - val_custom_metric: 0.8884 - val_binary_accuracy: 0.9953 - val_recall: 0.8070 - val_inv_distance: 0.9884\n",
      "Epoch 135/500\n",
      "75/75 [==============================] - 2s 30ms/step - loss: 0.0122 - custom_metric: 0.9851 - binary_accuracy: 0.9992 - recall: 0.9766 - inv_distance: 0.9944 - val_loss: 0.0226 - val_custom_metric: 0.8918 - val_binary_accuracy: 0.9955 - val_recall: 0.8116 - val_inv_distance: 0.9883\n",
      "Epoch 136/500\n",
      "75/75 [==============================] - 2s 30ms/step - loss: 0.0122 - custom_metric: 0.9833 - binary_accuracy: 0.9991 - recall: 0.9754 - inv_distance: 0.9944 - val_loss: 0.0216 - val_custom_metric: 0.8973 - val_binary_accuracy: 0.9956 - val_recall: 0.8221 - val_inv_distance: 0.9887\n",
      "Epoch 137/500\n",
      "75/75 [==============================] - 2s 31ms/step - loss: 0.0121 - custom_metric: 0.9842 - binary_accuracy: 0.9992 - recall: 0.9738 - inv_distance: 0.9944 - val_loss: 0.0215 - val_custom_metric: 0.9046 - val_binary_accuracy: 0.9959 - val_recall: 0.8406 - val_inv_distance: 0.9888\n",
      "Epoch 138/500\n",
      "75/75 [==============================] - 2s 30ms/step - loss: 0.0121 - custom_metric: 0.9838 - binary_accuracy: 0.9992 - recall: 0.9757 - inv_distance: 0.9946 - val_loss: 0.0235 - val_custom_metric: 0.8771 - val_binary_accuracy: 0.9951 - val_recall: 0.7827 - val_inv_distance: 0.9880\n",
      "Epoch 139/500\n",
      "75/75 [==============================] - 2s 30ms/step - loss: 0.0119 - custom_metric: 0.9833 - binary_accuracy: 0.9992 - recall: 0.9752 - inv_distance: 0.9946 - val_loss: 0.0223 - val_custom_metric: 0.8940 - val_binary_accuracy: 0.9950 - val_recall: 0.8387 - val_inv_distance: 0.9884\n",
      "Epoch 140/500\n",
      "75/75 [==============================] - 2s 30ms/step - loss: 0.0120 - custom_metric: 0.9858 - binary_accuracy: 0.9992 - recall: 0.9780 - inv_distance: 0.9945 - val_loss: 0.0244 - val_custom_metric: 0.8636 - val_binary_accuracy: 0.9945 - val_recall: 0.7647 - val_inv_distance: 0.9878\n",
      "Epoch 141/500\n",
      "75/75 [==============================] - 2s 31ms/step - loss: 0.0120 - custom_metric: 0.9838 - binary_accuracy: 0.9992 - recall: 0.9750 - inv_distance: 0.9946 - val_loss: 0.0219 - val_custom_metric: 0.9067 - val_binary_accuracy: 0.9958 - val_recall: 0.8480 - val_inv_distance: 0.9889\n",
      "Epoch 142/500\n",
      "75/75 [==============================] - 2s 31ms/step - loss: 0.0119 - custom_metric: 0.9844 - binary_accuracy: 0.9992 - recall: 0.9754 - inv_distance: 0.9944 - val_loss: 0.0240 - val_custom_metric: 0.8716 - val_binary_accuracy: 0.9950 - val_recall: 0.7722 - val_inv_distance: 0.9877\n",
      "Epoch 143/500\n",
      "75/75 [==============================] - 2s 30ms/step - loss: 0.0119 - custom_metric: 0.9853 - binary_accuracy: 0.9992 - recall: 0.9780 - inv_distance: 0.9945 - val_loss: 0.0217 - val_custom_metric: 0.8915 - val_binary_accuracy: 0.9953 - val_recall: 0.8192 - val_inv_distance: 0.9886\n",
      "Epoch 144/500\n",
      "75/75 [==============================] - 2s 30ms/step - loss: 0.0119 - custom_metric: 0.9870 - binary_accuracy: 0.9993 - recall: 0.9802 - inv_distance: 0.9944 - val_loss: 0.0215 - val_custom_metric: 0.8987 - val_binary_accuracy: 0.9953 - val_recall: 0.8358 - val_inv_distance: 0.9886\n",
      "Epoch 145/500\n",
      "75/75 [==============================] - 2s 31ms/step - loss: 0.0118 - custom_metric: 0.9846 - binary_accuracy: 0.9992 - recall: 0.9783 - inv_distance: 0.9945 - val_loss: 0.0249 - val_custom_metric: 0.8737 - val_binary_accuracy: 0.9951 - val_recall: 0.7722 - val_inv_distance: 0.9876\n",
      "Epoch 146/500\n",
      "75/75 [==============================] - 2s 31ms/step - loss: 0.0119 - custom_metric: 0.9840 - binary_accuracy: 0.9992 - recall: 0.9750 - inv_distance: 0.9945 - val_loss: 0.0220 - val_custom_metric: 0.8908 - val_binary_accuracy: 0.9948 - val_recall: 0.8405 - val_inv_distance: 0.9884\n",
      "Epoch 147/500\n",
      "75/75 [==============================] - 2s 30ms/step - loss: 0.0118 - custom_metric: 0.9848 - binary_accuracy: 0.9992 - recall: 0.9773 - inv_distance: 0.9946 - val_loss: 0.0239 - val_custom_metric: 0.8907 - val_binary_accuracy: 0.9950 - val_recall: 0.8283 - val_inv_distance: 0.9877\n",
      "Epoch 148/500\n",
      "75/75 [==============================] - 2s 30ms/step - loss: 0.0117 - custom_metric: 0.9833 - binary_accuracy: 0.9992 - recall: 0.9719 - inv_distance: 0.9946 - val_loss: 0.0220 - val_custom_metric: 0.9081 - val_binary_accuracy: 0.9958 - val_recall: 0.8615 - val_inv_distance: 0.9885\n",
      "Epoch 149/500\n",
      "75/75 [==============================] - 2s 30ms/step - loss: 0.0117 - custom_metric: 0.9847 - binary_accuracy: 0.9991 - recall: 0.9777 - inv_distance: 0.9945 - val_loss: 0.0228 - val_custom_metric: 0.8984 - val_binary_accuracy: 0.9951 - val_recall: 0.8463 - val_inv_distance: 0.9879\n",
      "Epoch 150/500\n",
      "75/75 [==============================] - 2s 29ms/step - loss: 0.0118 - custom_metric: 0.9831 - binary_accuracy: 0.9991 - recall: 0.9720 - inv_distance: 0.9945 - val_loss: 0.0222 - val_custom_metric: 0.9044 - val_binary_accuracy: 0.9955 - val_recall: 0.8602 - val_inv_distance: 0.9886\n",
      "Epoch 151/500\n",
      "75/75 [==============================] - 2s 29ms/step - loss: 0.0116 - custom_metric: 0.9860 - binary_accuracy: 0.9993 - recall: 0.9773 - inv_distance: 0.9946 - val_loss: 0.0220 - val_custom_metric: 0.8936 - val_binary_accuracy: 0.9955 - val_recall: 0.8238 - val_inv_distance: 0.9886\n",
      "Epoch 152/500\n",
      "75/75 [==============================] - 2s 30ms/step - loss: 0.0116 - custom_metric: 0.9844 - binary_accuracy: 0.9992 - recall: 0.9784 - inv_distance: 0.9946 - val_loss: 0.0237 - val_custom_metric: 0.8944 - val_binary_accuracy: 0.9951 - val_recall: 0.8329 - val_inv_distance: 0.9882\n",
      "Epoch 153/500\n",
      "75/75 [==============================] - 2s 31ms/step - loss: 0.0116 - custom_metric: 0.9861 - binary_accuracy: 0.9992 - recall: 0.9797 - inv_distance: 0.9948 - val_loss: 0.0218 - val_custom_metric: 0.9027 - val_binary_accuracy: 0.9956 - val_recall: 0.8405 - val_inv_distance: 0.9886\n",
      "Epoch 154/500\n",
      "75/75 [==============================] - 2s 31ms/step - loss: 0.0115 - custom_metric: 0.9873 - binary_accuracy: 0.9993 - recall: 0.9801 - inv_distance: 0.9947 - val_loss: 0.0219 - val_custom_metric: 0.8979 - val_binary_accuracy: 0.9956 - val_recall: 0.8360 - val_inv_distance: 0.9888\n",
      "Epoch 155/500\n",
      "75/75 [==============================] - 2s 30ms/step - loss: 0.0114 - custom_metric: 0.9827 - binary_accuracy: 0.9991 - recall: 0.9745 - inv_distance: 0.9946 - val_loss: 0.0221 - val_custom_metric: 0.8865 - val_binary_accuracy: 0.9951 - val_recall: 0.8070 - val_inv_distance: 0.9883\n",
      "Epoch 156/500\n",
      "75/75 [==============================] - 2s 31ms/step - loss: 0.0115 - custom_metric: 0.9849 - binary_accuracy: 0.9991 - recall: 0.9770 - inv_distance: 0.9947 - val_loss: 0.0219 - val_custom_metric: 0.8957 - val_binary_accuracy: 0.9956 - val_recall: 0.8238 - val_inv_distance: 0.9887\n",
      "Epoch 157/500\n",
      "75/75 [==============================] - 2s 31ms/step - loss: 0.0114 - custom_metric: 0.9832 - binary_accuracy: 0.9991 - recall: 0.9746 - inv_distance: 0.9947 - val_loss: 0.0218 - val_custom_metric: 0.8918 - val_binary_accuracy: 0.9955 - val_recall: 0.8116 - val_inv_distance: 0.9886\n",
      "Epoch 158/500\n",
      "75/75 [==============================] - 2s 31ms/step - loss: 0.0113 - custom_metric: 0.9829 - binary_accuracy: 0.9992 - recall: 0.9744 - inv_distance: 0.9948 - val_loss: 0.0231 - val_custom_metric: 0.8810 - val_binary_accuracy: 0.9951 - val_recall: 0.7890 - val_inv_distance: 0.9880\n",
      "Epoch 159/500\n",
      "75/75 [==============================] - 2s 31ms/step - loss: 0.0113 - custom_metric: 0.9854 - binary_accuracy: 0.9992 - recall: 0.9764 - inv_distance: 0.9947 - val_loss: 0.0212 - val_custom_metric: 0.8990 - val_binary_accuracy: 0.9955 - val_recall: 0.8329 - val_inv_distance: 0.9888\n",
      "Epoch 160/500\n",
      "75/75 [==============================] - 2s 31ms/step - loss: 0.0113 - custom_metric: 0.9850 - binary_accuracy: 0.9993 - recall: 0.9751 - inv_distance: 0.9948 - val_loss: 0.0215 - val_custom_metric: 0.8993 - val_binary_accuracy: 0.9956 - val_recall: 0.8236 - val_inv_distance: 0.9886\n",
      "Epoch 161/500\n",
      "75/75 [==============================] - 2s 30ms/step - loss: 0.0112 - custom_metric: 0.9875 - binary_accuracy: 0.9993 - recall: 0.9808 - inv_distance: 0.9948 - val_loss: 0.0224 - val_custom_metric: 0.8873 - val_binary_accuracy: 0.9951 - val_recall: 0.8070 - val_inv_distance: 0.9884\n",
      "Epoch 162/500\n",
      "75/75 [==============================] - 2s 31ms/step - loss: 0.0112 - custom_metric: 0.9862 - binary_accuracy: 0.9993 - recall: 0.9802 - inv_distance: 0.9949 - val_loss: 0.0251 - val_custom_metric: 0.8703 - val_binary_accuracy: 0.9950 - val_recall: 0.7617 - val_inv_distance: 0.9866\n",
      "Epoch 163/500\n",
      "75/75 [==============================] - 2s 31ms/step - loss: 0.0113 - custom_metric: 0.9870 - binary_accuracy: 0.9992 - recall: 0.9813 - inv_distance: 0.9946 - val_loss: 0.0225 - val_custom_metric: 0.8847 - val_binary_accuracy: 0.9950 - val_recall: 0.8070 - val_inv_distance: 0.9881\n",
      "Epoch 164/500\n",
      "75/75 [==============================] - 2s 31ms/step - loss: 0.0112 - custom_metric: 0.9848 - binary_accuracy: 0.9992 - recall: 0.9777 - inv_distance: 0.9948 - val_loss: 0.0232 - val_custom_metric: 0.9027 - val_binary_accuracy: 0.9956 - val_recall: 0.8405 - val_inv_distance: 0.9885\n",
      "Epoch 165/500\n",
      "75/75 [==============================] - 2s 31ms/step - loss: 0.0113 - custom_metric: 0.9865 - binary_accuracy: 0.9993 - recall: 0.9786 - inv_distance: 0.9947 - val_loss: 0.0227 - val_custom_metric: 0.8818 - val_binary_accuracy: 0.9950 - val_recall: 0.7965 - val_inv_distance: 0.9882\n",
      "Epoch 166/500\n",
      "75/75 [==============================] - 2s 31ms/step - loss: 0.0111 - custom_metric: 0.9865 - binary_accuracy: 0.9993 - recall: 0.9773 - inv_distance: 0.9949 - val_loss: 0.0227 - val_custom_metric: 0.8905 - val_binary_accuracy: 0.9955 - val_recall: 0.8070 - val_inv_distance: 0.9883\n",
      "Epoch 167/500\n",
      "75/75 [==============================] - 2s 31ms/step - loss: 0.0112 - custom_metric: 0.9855 - binary_accuracy: 0.9992 - recall: 0.9782 - inv_distance: 0.9947 - val_loss: 0.0228 - val_custom_metric: 0.9048 - val_binary_accuracy: 0.9953 - val_recall: 0.8677 - val_inv_distance: 0.9880\n",
      "Epoch 168/500\n",
      "75/75 [==============================] - 2s 31ms/step - loss: 0.0112 - custom_metric: 0.9832 - binary_accuracy: 0.9992 - recall: 0.9726 - inv_distance: 0.9947 - val_loss: 0.0229 - val_custom_metric: 0.8891 - val_binary_accuracy: 0.9953 - val_recall: 0.8070 - val_inv_distance: 0.9882\n",
      "Epoch 169/500\n",
      "75/75 [==============================] - 2s 31ms/step - loss: 0.0111 - custom_metric: 0.9847 - binary_accuracy: 0.9993 - recall: 0.9764 - inv_distance: 0.9948 - val_loss: 0.0227 - val_custom_metric: 0.8873 - val_binary_accuracy: 0.9951 - val_recall: 0.8070 - val_inv_distance: 0.9883\n",
      "Epoch 170/500\n",
      "75/75 [==============================] - 2s 30ms/step - loss: 0.0110 - custom_metric: 0.9848 - binary_accuracy: 0.9992 - recall: 0.9764 - inv_distance: 0.9949 - val_loss: 0.0231 - val_custom_metric: 0.8961 - val_binary_accuracy: 0.9953 - val_recall: 0.8236 - val_inv_distance: 0.9883\n",
      "Epoch 171/500\n",
      "75/75 [==============================] - 2s 30ms/step - loss: 0.0109 - custom_metric: 0.9857 - binary_accuracy: 0.9993 - recall: 0.9786 - inv_distance: 0.9949 - val_loss: 0.0223 - val_custom_metric: 0.8936 - val_binary_accuracy: 0.9956 - val_recall: 0.8116 - val_inv_distance: 0.9884\n",
      "Epoch 172/500\n",
      "75/75 [==============================] - 2s 30ms/step - loss: 0.0110 - custom_metric: 0.9847 - binary_accuracy: 0.9992 - recall: 0.9748 - inv_distance: 0.9948 - val_loss: 0.0220 - val_custom_metric: 0.9057 - val_binary_accuracy: 0.9951 - val_recall: 0.9031 - val_inv_distance: 0.9883\n",
      "Epoch 173/500\n",
      "75/75 [==============================] - 2s 30ms/step - loss: 0.0110 - custom_metric: 0.9836 - binary_accuracy: 0.9992 - recall: 0.9756 - inv_distance: 0.9949 - val_loss: 0.0230 - val_custom_metric: 0.8847 - val_binary_accuracy: 0.9950 - val_recall: 0.8070 - val_inv_distance: 0.9881\n",
      "Epoch 174/500\n",
      "75/75 [==============================] - 2s 30ms/step - loss: 0.0110 - custom_metric: 0.9853 - binary_accuracy: 0.9993 - recall: 0.9757 - inv_distance: 0.9949 - val_loss: 0.0223 - val_custom_metric: 0.8892 - val_binary_accuracy: 0.9950 - val_recall: 0.8250 - val_inv_distance: 0.9881\n"
     ]
    }
   ],
   "source": [
    "n_epochs = 500\n",
    "batch_size = 32\n",
    "early_stopping = tf.keras.callbacks.EarlyStopping(monitor='loss', patience=3)\n",
    "\n",
    "history = model.fit(\n",
    "    x_os, y_os,\n",
    "    batch_size=batch_size,\n",
    "    epochs=n_epochs,\n",
    "    # sample_weight=sample_weight,\n",
    "    validation_data=(x_dev, y_dev),\n",
    "    callbacks=[early_stopping],\n",
    "    # use_multiprocessing=True # not applicable?\n",
    ")"
   ]
  },
  {
   "cell_type": "markdown",
   "id": "5953f57e-ad7e-49c4-9e8a-44eea58481fe",
   "metadata": {},
   "source": [
    "### Plots and Stats"
   ]
  },
  {
   "cell_type": "code",
   "execution_count": 19,
   "id": "c3e713c2-a3e8-4081-9002-63653a2c3b0c",
   "metadata": {},
   "outputs": [
    {
     "data": {
      "image/png": "[encoded data removed]",
      "text/plain": [
       "<Figure size 640x480 with 1 Axes>"
      ]
     },
     "metadata": {},
     "output_type": "display_data"
    }
   ],
   "source": [
    "n = len(history.history['loss'])\n",
    "\n",
    "offset = 0\n",
    "\n",
    "plt.plot(range(1 + offset, n+1), history.history['loss'][offset:], label=\"Training loss\")\n",
    "plt.plot(range(1 + offset, n+1), history.history['val_loss'][offset:], label=\"Validation loss\")\n",
    "plt.xlabel('Epochs')\n",
    "plt.ylabel('Loss')\n",
    "plt.legend()\n",
    "plt.show()"
   ]
  },
  {
   "cell_type": "code",
   "execution_count": 20,
   "id": "987a51ce-aabd-4c6a-8bf4-c8d026267a17",
   "metadata": {},
   "outputs": [
    {
     "data": {
      "image/png": "[encoded data removed]",
      "text/plain": [
       "<Figure size 640x480 with 1 Axes>"
      ]
     },
     "metadata": {},
     "output_type": "display_data"
    }
   ],
   "source": [
    "plt.plot(range(1 + offset, n+1), history.history['custom_metric'][offset:], label=\"Metric\")\n",
    "plt.plot(range(1 + offset, n+1), history.history['val_custom_metric'][offset:], label=\"Metric (val)\")\n",
    "\n",
    "plt.xlabel('Epochs')\n",
    "plt.ylabel('Metric')\n",
    "plt.legend()\n",
    "plt.show()"
   ]
  },
  {
   "cell_type": "code",
   "execution_count": 21,
   "id": "547f87ba-0699-4ae0-9efb-b85fd5b69c66",
   "metadata": {},
   "outputs": [
    {
     "ename": "KeyError",
     "evalue": "'<lambda>'",
     "output_type": "error",
     "traceback": [
      "\u001b[0;31m---------------------------------------------------------------------------\u001b[0m",
      "\u001b[0;31mKeyError\u001b[0m                                  Traceback (most recent call last)",
      "\u001b[0;32m/tmp/ipykernel_63863/4120855422.py\u001b[0m in \u001b[0;36m<cell line: 1>\u001b[0;34m()\u001b[0m\n\u001b[0;32m----> 1\u001b[0;31m \u001b[0mplt\u001b[0m\u001b[0;34m.\u001b[0m\u001b[0mplot\u001b[0m\u001b[0;34m(\u001b[0m\u001b[0mrange\u001b[0m\u001b[0;34m(\u001b[0m\u001b[0;36m1\u001b[0m \u001b[0;34m+\u001b[0m \u001b[0moffset\u001b[0m\u001b[0;34m,\u001b[0m \u001b[0mn\u001b[0m\u001b[0;34m+\u001b[0m\u001b[0;36m1\u001b[0m\u001b[0;34m)\u001b[0m\u001b[0;34m,\u001b[0m \u001b[0mhistory\u001b[0m\u001b[0;34m.\u001b[0m\u001b[0mhistory\u001b[0m\u001b[0;34m[\u001b[0m\u001b[0;34m'<lambda>'\u001b[0m\u001b[0;34m]\u001b[0m\u001b[0;34m[\u001b[0m\u001b[0moffset\u001b[0m\u001b[0;34m:\u001b[0m\u001b[0;34m]\u001b[0m\u001b[0;34m,\u001b[0m \u001b[0mlabel\u001b[0m\u001b[0;34m=\u001b[0m\u001b[0;34m\"f_2\"\u001b[0m\u001b[0;34m)\u001b[0m\u001b[0;34m\u001b[0m\u001b[0;34m\u001b[0m\u001b[0m\n\u001b[0m\u001b[1;32m      2\u001b[0m \u001b[0mplt\u001b[0m\u001b[0;34m.\u001b[0m\u001b[0mplot\u001b[0m\u001b[0;34m(\u001b[0m\u001b[0mrange\u001b[0m\u001b[0;34m(\u001b[0m\u001b[0;36m1\u001b[0m \u001b[0;34m+\u001b[0m \u001b[0moffset\u001b[0m\u001b[0;34m,\u001b[0m \u001b[0mn\u001b[0m\u001b[0;34m+\u001b[0m\u001b[0;36m1\u001b[0m\u001b[0;34m)\u001b[0m\u001b[0;34m,\u001b[0m \u001b[0mhistory\u001b[0m\u001b[0;34m.\u001b[0m\u001b[0mhistory\u001b[0m\u001b[0;34m[\u001b[0m\u001b[0;34m'val_<lambda>'\u001b[0m\u001b[0;34m]\u001b[0m\u001b[0;34m[\u001b[0m\u001b[0moffset\u001b[0m\u001b[0;34m:\u001b[0m\u001b[0;34m]\u001b[0m\u001b[0;34m,\u001b[0m \u001b[0mlabel\u001b[0m\u001b[0;34m=\u001b[0m\u001b[0;34m\"f_2 (val)\"\u001b[0m\u001b[0;34m)\u001b[0m\u001b[0;34m\u001b[0m\u001b[0;34m\u001b[0m\u001b[0m\n\u001b[1;32m      3\u001b[0m \u001b[0;34m\u001b[0m\u001b[0m\n\u001b[1;32m      4\u001b[0m \u001b[0mplt\u001b[0m\u001b[0;34m.\u001b[0m\u001b[0mxlabel\u001b[0m\u001b[0;34m(\u001b[0m\u001b[0;34m'Epochs'\u001b[0m\u001b[0;34m)\u001b[0m\u001b[0;34m\u001b[0m\u001b[0;34m\u001b[0m\u001b[0m\n\u001b[1;32m      5\u001b[0m \u001b[0mplt\u001b[0m\u001b[0;34m.\u001b[0m\u001b[0mylabel\u001b[0m\u001b[0;34m(\u001b[0m\u001b[0;34m'$f_2$'\u001b[0m\u001b[0;34m)\u001b[0m\u001b[0;34m\u001b[0m\u001b[0;34m\u001b[0m\u001b[0m\n",
      "\u001b[0;31mKeyError\u001b[0m: '<lambda>'"
     ]
    }
   ],
   "source": [
    "plt.plot(range(1 + offset, n+1), history.history['<lambda>'][offset:], label=\"f_2\")\n",
    "plt.plot(range(1 + offset, n+1), history.history['val_<lambda>'][offset:], label=\"f_2 (val)\")\n",
    "\n",
    "plt.xlabel('Epochs')\n",
    "plt.ylabel('$f_2$')\n",
    "plt.legend()\n",
    "plt.show()"
   ]
  },
  {
   "cell_type": "code",
   "execution_count": 23,
   "id": "6820e1c3-5db1-4382-9d75-d03b2e0ce8fb",
   "metadata": {},
   "outputs": [
    {
     "data": {
      "image/png": "[encoded data removed]",
      "text/plain": [
       "<Figure size 640x480 with 1 Axes>"
      ]
     },
     "metadata": {},
     "output_type": "display_data"
    }
   ],
   "source": [
    "plt.plot(range(1 + offset, n+1), history.history['inv_distance'][offset:], label=\"inv_distance\")\n",
    "plt.plot(range(1 + offset, n+1), history.history['val_inv_distance'][offset:], label=\"inv_distance (val)\")\n",
    "\n",
    "plt.xlabel('Epochs')\n",
    "plt.ylabel('inv_distance')\n",
    "plt.legend()\n",
    "plt.show()"
   ]
  },
  {
   "cell_type": "code",
   "execution_count": 27,
   "id": "53b32532-1d83-4cd8-bc53-8dd831b0e6ac",
   "metadata": {
    "scrolled": true
   },
   "outputs": [
    {
     "name": "stdout",
     "output_type": "stream",
     "text": [
      "12/12 [==============================] - 0s 3ms/step\n",
      "101 223 168 130 98\n",
      "45/45 [==============================] - 0s 7ms/step - loss: 0.0110 - custom_metric: 0.9797 - binary_accuracy: 0.9990 - recall: 0.9829 - inv_distance: 0.9953\n",
      "12/12 [==============================] - 0s 7ms/step - loss: 0.0223 - custom_metric: 0.8892 - binary_accuracy: 0.9950 - recall: 0.8250 - inv_distance: 0.9881\n"
     ]
    },
    {
     "data": {
      "text/plain": [
       "([0.010979818180203438,\n",
       "  0.9797349572181702,\n",
       "  0.9989985823631287,\n",
       "  0.9829012751579285,\n",
       "  0.9952501654624939],\n",
       " [0.022304099053144455,\n",
       "  0.8892107605934143,\n",
       "  0.9949765205383301,\n",
       "  0.8249579071998596,\n",
       "  0.9880843162536621])"
      ]
     },
     "execution_count": 27,
     "metadata": {},
     "output_type": "execute_result"
    }
   ],
   "source": [
    "y_pred = model.predict(x_dev)\n",
    "print(\n",
    "    (y_dev == 1).sum(),\n",
    "    (y_pred > 1e-3).sum(),\n",
    "    (y_pred > 1e-2).sum(),\n",
    "    (y_pred > 1e-1).sum(),\n",
    "    (y_pred > 5e-1).sum(),\n",
    ")\n",
    "\n",
    "(model.evaluate(x_train, y_train), model.evaluate(x_dev, y_dev))"
   ]
  },
  {
   "cell_type": "markdown",
   "id": "cde74ac4-d0d5-4bac-af13-a78a79ce6aa0",
   "metadata": {},
   "source": [
    "Save the model:"
   ]
  },
  {
   "cell_type": "code",
   "execution_count": 22,
   "id": "c2fc4ba6-50d5-4ba8-80c9-a6edb6cc7697",
   "metadata": {},
   "outputs": [
    {
     "ename": "AssertionError",
     "evalue": "Name is not unique",
     "output_type": "error",
     "traceback": [
      "\u001b[0;31m---------------------------------------------------------------------------\u001b[0m",
      "\u001b[0;31mAssertionError\u001b[0m                            Traceback (most recent call last)",
      "\u001b[0;32m/tmp/ipykernel_63863/2196615080.py\u001b[0m in \u001b[0;36m<cell line: 4>\u001b[0;34m()\u001b[0m\n\u001b[1;32m      2\u001b[0m \u001b[0mname\u001b[0m \u001b[0;34m=\u001b[0m \u001b[0;34m\"oversampling-5-click\"\u001b[0m\u001b[0;34m\u001b[0m\u001b[0;34m\u001b[0m\u001b[0m\n\u001b[1;32m      3\u001b[0m \u001b[0mpath\u001b[0m \u001b[0;34m=\u001b[0m \u001b[0;34mf'{name}.keras'\u001b[0m\u001b[0;34m\u001b[0m\u001b[0;34m\u001b[0m\u001b[0m\n\u001b[0;32m----> 4\u001b[0;31m \u001b[0;32massert\u001b[0m \u001b[0;32mnot\u001b[0m \u001b[0mos\u001b[0m\u001b[0;34m.\u001b[0m\u001b[0mpath\u001b[0m\u001b[0;34m.\u001b[0m\u001b[0mexists\u001b[0m\u001b[0;34m(\u001b[0m\u001b[0mpath\u001b[0m\u001b[0;34m)\u001b[0m\u001b[0;34m,\u001b[0m \u001b[0;34m\"Name is not unique\"\u001b[0m\u001b[0;34m\u001b[0m\u001b[0;34m\u001b[0m\u001b[0m\n\u001b[0m\u001b[1;32m      5\u001b[0m \u001b[0mmodel\u001b[0m\u001b[0;34m.\u001b[0m\u001b[0msave\u001b[0m\u001b[0;34m(\u001b[0m\u001b[0mpath\u001b[0m\u001b[0;34m)\u001b[0m\u001b[0;34m\u001b[0m\u001b[0;34m\u001b[0m\u001b[0m\n\u001b[1;32m      6\u001b[0m \u001b[0;31m# TODO: add history\u001b[0m\u001b[0;34m\u001b[0m\u001b[0;34m\u001b[0m\u001b[0m\n",
      "\u001b[0;31mAssertionError\u001b[0m: Name is not unique"
     ]
    }
   ],
   "source": [
    "import os\n",
    "name = \"oversampling-5-click\"\n",
    "path = f'{name}.keras'\n",
    "assert not os.path.exists(path), \"Name is not unique\"\n",
    "model.save(path)\n",
    "# TODO: add history\n",
    "\n",
    "# UserWarning: The object being serialized includes a `lambda`. This is unsafe.\n",
    "# In order to reload the object, you will have to pass `safe_mode=False` to the\n",
    "# loading function. Please avoid using `lambda` in the future, and use named\n",
    "# Python functions instead. This is the `lambda` being serialized:\n",
    "#    lambda *x: fbeta(*x, beta=2),"
   ]
  },
  {
   "cell_type": "markdown",
   "id": "88d5c76b-3663-4dd4-8b00-19b13fc6ab1f",
   "metadata": {},
   "source": [
    "Load a model:"
   ]
  },
  {
   "cell_type": "code",
   "execution_count": 18,
   "id": "fa904eaa-eb5c-4361-a387-b3f69bd59004",
   "metadata": {},
   "outputs": [],
   "source": [
    "model_l = keras.models.load_model(\"oversampling-4.keras\", safe_mode=False)"
   ]
  },
  {
   "cell_type": "markdown",
   "id": "4ab88911-217b-47e6-abd9-01c921fcd7f6",
   "metadata": {},
   "source": [
    "### Evaluation"
   ]
  },
  {
   "cell_type": "markdown",
   "id": "70388be7-56ef-44f1-a0bf-fd9e62f26721",
   "metadata": {},
   "source": [
    "Do not make changes to optimize this value, optimize dev set instead."
   ]
  },
  {
   "cell_type": "code",
   "execution_count": 25,
   "id": "f865ba01-edb1-4e1c-ab1b-e53485f56389",
   "metadata": {
    "scrolled": true
   },
   "outputs": [
    {
     "name": "stdout",
     "output_type": "stream",
     "text": [
      "8/8 [==============================] - 0s 7ms/step - loss: 0.0215 - custom_metric: 0.9265 - binary_accuracy: 0.9966 - recall: 0.8891 - inv_distance: 0.9900\n"
     ]
    },
    {
     "data": {
      "text/plain": [
       "[0.0214606374502182,\n",
       " 0.9264504313468933,\n",
       " 0.9965970516204834,\n",
       " 0.8891369104385376,\n",
       " 0.9899890422821045]"
      ]
     },
     "execution_count": 25,
     "metadata": {},
     "output_type": "execute_result"
    }
   ],
   "source": [
    "model.evaluate(x_test, y_test)"
   ]
  },
  {
   "cell_type": "code",
   "execution_count": null,
   "id": "24bf488d-88b4-455a-a95f-b6ea03cf4c4e",
   "metadata": {},
   "outputs": [],
   "source": []
  }
 ],
 "metadata": {
  "kernelspec": {
   "display_name": "Python 3 (ipykernel)",
   "language": "python",
   "name": "python3"
  },
  "language_info": {
   "codemirror_mode": {
    "name": "ipython",
    "version": 3
   },
   "file_extension": ".py",
   "mimetype": "text/x-python",
   "name": "python",
   "nbconvert_exporter": "python",
   "pygments_lexer": "ipython3",
   "version": "3.10.12"
  }
 },
 "nbformat": 4,
 "nbformat_minor": 5
}
